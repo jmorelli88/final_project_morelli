{
 "cells": [
  {
   "cell_type": "markdown",
   "metadata": {},
   "source": [
    "## Replication of Arellano (2008)\n",
    "\n",
    "The following code was taken from the QuantEcon webpage. It was written by Spencer Lyon and it replicates the Arellano (2008) model. The link is:\n",
    "\n",
    "http://quant-econ.net/jl/arellano.html\n",
    "\n",
    "First define the ArellanoEconomy type which will contain all the parameters that define this economy."
   ]
  },
  {
   "cell_type": "code",
   "execution_count": 1,
   "metadata": {
    "collapsed": true
   },
   "outputs": [],
   "source": [
    "using QuantEcon, Distributions\n",
    "\n",
    "abstract ArellanoModel\n",
    "\n",
    "type ArellanoEconomy <: ArellanoModel\n",
    "    # Model Parameters\n",
    "    β::Float64\n",
    "    γ::Float64\n",
    "    r::Float64\n",
    "    ρ::Float64\n",
    "    η::Float64\n",
    "    θ::Float64\n",
    "\n",
    "    # Grid Parameters\n",
    "    ny::Int\n",
    "    nB::Int\n",
    "    ygrid::Array{Float64, 1}\n",
    "    ydefgrid::Array{Float64, 1}\n",
    "    Bgrid::Array{Float64, 1}\n",
    "    Π::Array{Float64, 2}\n",
    "\n",
    "    # Value function\n",
    "    vf::Array{Float64, 2}\n",
    "    vd::Array{Float64, 2}\n",
    "    vc::Array{Float64, 2}\n",
    "    policy::Array{Int64, 2}\n",
    "    q::Array{Float64, 2}\n",
    "    defprob::Array{Float64, 2}\n",
    "end"
   ]
  },
  {
   "cell_type": "markdown",
   "metadata": {},
   "source": [
    "Generate the ArellanoEconomy function that will give key values to the ArellanoEconomy type.\n",
    "Later one we can change particular values of the parameters by typing ArellanoEconomy(param=value)."
   ]
  },
  {
   "cell_type": "code",
   "execution_count": 2,
   "metadata": {
    "collapsed": false
   },
   "outputs": [
    {
     "data": {
      "text/plain": [
       "ArellanoEconomy"
      ]
     },
     "execution_count": 2,
     "metadata": {},
     "output_type": "execute_result"
    }
   ],
   "source": [
    "function ArellanoEconomy(;β=.953, γ=2., r=0.017, ρ=0.945, η=0.025, θ=0.282,\n",
    "                          ny=21, nB=251)\n",
    "\n",
    "    # Create grids\n",
    "    Bgrid = collect(linspace(-.4, .4, nB))\n",
    "    res_mark = tauchen(ny, ρ, η)\n",
    "    Π = res_mark.p\n",
    "    ly = res_mark.state_values\n",
    "    ygrid = exp(ly)\n",
    "    ydefgrid = min(.969 * mean(ygrid), ygrid)\n",
    "\n",
    "    # Define value functions (Notice ordered different than Python to take\n",
    "    # advantage of column major layout of Julia)\n",
    "    vf = zeros(nB, ny)\n",
    "    vd = zeros(1, ny)\n",
    "    vc = zeros(nB, ny)\n",
    "    policy = Array(Int, nB, ny)\n",
    "    q = ones(nB, ny) .* (1 / (1 + r))\n",
    "    defprob = Array(Float64, nB, ny)\n",
    "\n",
    "    return ArellanoEconomy(β, γ, r, ρ, η, θ, ny, nB, ygrid, ydefgrid, Bgrid, Π,\n",
    "                            vf, vd, vc, policy, q, defprob)\n",
    "end"
   ]
  },
  {
   "cell_type": "markdown",
   "metadata": {},
   "source": [
    "Define the utility function and auxiliary functions `_unpack` and `_unpackgrids` to unpack stuff."
   ]
  },
  {
   "cell_type": "code",
   "execution_count": 3,
   "metadata": {
    "collapsed": false
   },
   "outputs": [
    {
     "data": {
      "text/plain": [
       "_unpackgrids (generic function with 1 method)"
      ]
     },
     "execution_count": 3,
     "metadata": {},
     "output_type": "execute_result"
    }
   ],
   "source": [
    "u(ae::ArellanoEconomy, c) = c^(1 - ae.γ) / (1 - ae.γ)\n",
    "_unpack(ae::ArellanoEconomy) =\n",
    "    ae.β, ae.γ, ae.r, ae.ρ, ae.η, ae.θ, ae.ny, ae.nB\n",
    "_unpackgrids(ae::ArellanoEconomy) =\n",
    "    ae.ygrid, ae.ydefgrid, ae.Bgrid, ae.Π, ae.vf, ae.vd, ae.vc, ae.policy, ae.q, ae.defprob"
   ]
  },
  {
   "cell_type": "markdown",
   "metadata": {},
   "source": [
    "Define the functions `one_step_update!`, `compute_prices!` and `vfi!`. The first one is to update the value and policy functions only once. The second one is to compute prices at that given iteration and the third one is to iterate over the value function. So the last one will call for the first two functions. All of these functions have the `!` symbol which tell `Julia` to update whatever changed in the argument of the function. Nothing is going to be returned (we do not care about saving the intermediate iterations results), and at the end of the iterative process we can access the results by calling the wanted element of the type (as in structures in MATLAB)."
   ]
  },
  {
   "cell_type": "code",
   "execution_count": 4,
   "metadata": {
    "collapsed": false
   },
   "outputs": [
    {
     "data": {
      "text/plain": [
       "vfi! (generic function with 1 method)"
      ]
     },
     "execution_count": 4,
     "metadata": {},
     "output_type": "execute_result"
    }
   ],
   "source": [
    "function one_step_update!(ae::ArellanoEconomy, EV::Matrix{Float64},\n",
    "                          EVd::Matrix{Float64}, EVc::Matrix{Float64})\n",
    "\n",
    "    # Unpack stuff\n",
    "    β, γ, r, ρ, η, θ, ny, nB = _unpack(ae)\n",
    "    ygrid, ydefgrid, Bgrid, Π, vf, vd, vc, policy, q, defprob = _unpackgrids(ae)\n",
    "    zero_ind = searchsortedfirst(Bgrid, 0.)\n",
    "\n",
    "    for iy=1:ny\n",
    "        y = ae.ygrid[iy]\n",
    "        ydef = ae.ydefgrid[iy]\n",
    "\n",
    "        # Value of being in default with income y\n",
    "        defval = u(ae, ydef) + β*(θ*EV[zero_ind, iy] + (1-θ)*EVd[1, iy])\n",
    "        ae.vd[1, iy] = defval\n",
    "\n",
    "        for ib=1:nB\n",
    "            B = ae.Bgrid[ib]\n",
    "\n",
    "            current_max = -1e14\n",
    "            pol_ind = 0\n",
    "            for ib_next=1:nB\n",
    "                if (y - ae.q[ib_next, iy]*Bgrid[ib_next] + B)<=1e-14\n",
    "                    m = -1000000.0\n",
    "                else\n",
    "                    c = y - ae.q[ib_next, iy]*Bgrid[ib_next] + B\n",
    "                    m = u(ae, c) + β * EV[ib_next, iy]\n",
    "                end\n",
    "\n",
    "                if m > current_max\n",
    "                    current_max = m\n",
    "                    pol_ind = ib_next\n",
    "                end\n",
    "\n",
    "            end\n",
    "\n",
    "            # Update value and policy functions\n",
    "            ae.vc[ib, iy] = current_max\n",
    "            ae.policy[ib, iy] = pol_ind\n",
    "            ae.vf[ib, iy] = defval > current_max ? defval: current_max\n",
    "        end\n",
    "    end\n",
    "\n",
    "    Void\n",
    "end\n",
    "\n",
    "function HIS!(ae::ArellanoEconomy, H)\n",
    "    \n",
    "    # Unpack stuff\n",
    "    β, γ, r, ρ, η, θ, ny, nB = _unpack(ae)\n",
    "    ygrid, ydefgrid, Bgrid, Π, vf, vd, vc, policy, q, defprob = _unpackgrids(ae)\n",
    "    Πt = Π'\n",
    "    \n",
    "    Vh_upd = zeros(ae.vf)\n",
    "    \n",
    "    zero_ind = searchsortedfirst(Bgrid, 0.)\n",
    "    \n",
    "    ith = 0\n",
    "    \n",
    "    for hh=1:H\n",
    "        \n",
    "        ith+=1\n",
    "        \n",
    "        copy!(Vh_upd,ae.vf)\n",
    "        \n",
    "        EV  = ae.vf * Πt\n",
    "        EVd = ae.vd * Πt\n",
    "        EVc = ae.vc * Πt\n",
    "        \n",
    "            for iy=1:ny\n",
    "                y = ae.ygrid[iy]\n",
    "                ydef = ae.ydefgrid[iy]\n",
    "\n",
    "                # Value of being in default with income y\n",
    "                defval = u(ae, ydef) + β*(θ*EV[zero_ind, iy] + (1-θ)*EVd[1, iy])\n",
    "                ae.vd[1, iy] = defval\n",
    "\n",
    "                for ib=1:nB\n",
    "                    B = ae.Bgrid[ib]\n",
    "                    ib_next = ae.policy[ib,iy]\n",
    "                \n",
    "                    c = max(y - ae.q[ib_next, iy]*Bgrid[ib_next] + B, 1e-14)\n",
    "                    ae.vc[ib,iy] = u(ae, c) + β * EV[ib_next, iy]\n",
    "                    ae.vf[ib,iy] = defval > ae.vc[ib,iy] ? defval: ae.vc[ib,iy]\n",
    "                end\n",
    "            end\n",
    "        dist_h = maxabs(Vh_upd - ae.vf)\n",
    "        \n",
    "#         if ith%100 == 0\n",
    "#             println(\"Finished HIS iteration $(ith) with dist of $(dist_h)\")\n",
    "#         end\n",
    "    end\n",
    "end\n",
    "\n",
    "function compute_prices!(ae::ArellanoEconomy)\n",
    "    # Unpack parameters\n",
    "    β, γ, r, ρ, η, θ, ny, nB = _unpack(ae)\n",
    "\n",
    "    # Create default values with a matching size\n",
    "    vd_compat = repmat(ae.vd, nB)\n",
    "    default_states = vd_compat .> ae.vc\n",
    "\n",
    "    # Update default probabilities and prices\n",
    "    copy!(ae.defprob, default_states * ae.Π')\n",
    "    copy!(ae.q, (1 - ae.defprob) / (1 + r))\n",
    "\n",
    "    Void\n",
    "end\n",
    "\n",
    "function vfi!(ae::ArellanoEconomy; tol=1e-8, maxit=10000)\n",
    "\n",
    "    # Unpack stuff\n",
    "    β, γ, r, ρ, η, θ, ny, nB = _unpack(ae)\n",
    "    ygrid, ydefgrid, Bgrid, Π, vf, vd, vc, policy, q, defprob = _unpackgrids(ae)\n",
    "    Πt = Π'\n",
    "\n",
    "    # Iteration stuff\n",
    "    it = 0\n",
    "    dist = 10.\n",
    "\n",
    "    # Allocate memory for update\n",
    "    V_upd = zeros(ae.vf)\n",
    "\n",
    "    while dist > tol && it < maxit\n",
    "        it += 1\n",
    "        \n",
    "        if it<=100\n",
    "            \n",
    "            # Compute expectations for this iterations\n",
    "            # (We need Π' because of order value function dimensions)\n",
    "            copy!(V_upd, ae.vf)\n",
    "            EV = ae.vf * Πt\n",
    "            EVd = ae.vd * Πt\n",
    "            EVc = ae.vc * Πt\n",
    "\n",
    "            # Update Value Function\n",
    "            one_step_update!(ae, EV, EVd, EVc)\n",
    "\n",
    "            # Update prices\n",
    "            compute_prices!(ae)\n",
    "            \n",
    "        else\n",
    "            copy!(V_upd, ae.vf)\n",
    "            \n",
    "            # Howard Iterative Step\n",
    "            H = 2*it\n",
    "            HIS!(ae, H)\n",
    "            \n",
    "            EV = ae.vf * Πt\n",
    "            EVd = ae.vd * Πt\n",
    "            EVc = ae.vc * Πt\n",
    "            \n",
    "            # Update Value Function\n",
    "            one_step_update!(ae, EV, EVd, EVc)\n",
    "            \n",
    "            # Update prices\n",
    "            compute_prices!(ae)\n",
    "        end\n",
    "\n",
    "        dist = maxabs(V_upd - ae.vf)\n",
    "\n",
    "        if it%25 == 0\n",
    "            println(\"Finished iteration $(it) with dist of $(dist)\")\n",
    "        end\n",
    "    end\n",
    "    \n",
    "    println(\"Total number of iterations over value function was $(it) with dist of $(dist)\")\n",
    "\n",
    "    Void\n",
    "end"
   ]
  },
  {
   "cell_type": "markdown",
   "metadata": {},
   "source": [
    "Write down the code for simulation."
   ]
  },
  {
   "cell_type": "markdown",
   "metadata": {},
   "source": [
    "In what follows the code runs the model and gives several figures."
   ]
  },
  {
   "cell_type": "code",
   "execution_count": 5,
   "metadata": {
    "collapsed": false
   },
   "outputs": [
    {
     "name": "stdout",
     "output_type": "stream",
     "text": [
      "Finished iteration 25 with dist of 0.3422799771952896\n"
     ]
    },
    {
     "name": "stderr",
     "output_type": "stream",
     "text": [
      "/Users/jmorelli/.julia/v0.4/Conda/deps/usr/lib/python2.7/site-packages/matplotlib/font_manager.py:273: UserWarning: Matplotlib is building the font cache using fc-list. This may take a moment.\n",
      "  warnings.warn('Matplotlib is building the font cache using fc-list. This may take a moment.')\n"
     ]
    },
    {
     "name": "stdout",
     "output_type": "stream",
     "text": [
      "Finished iteration 50 with dist of 0.0981849502662655\n",
      "Finished iteration 75 with dist of 0.029155042093719885\n",
      "Finished iteration 100 with dist of 0.00872830608822639\n",
      "Total number of iterations over value function was 103 with dist of 5.217657417233568e-10\n",
      "  5.195174 seconds (2.74 M allocations: 200.262 MB, 1.38% gc time)\n"
     ]
    },
    {
     "data": {
      "text/plain": [
       "Void"
      ]
     },
     "execution_count": 5,
     "metadata": {},
     "output_type": "execute_result"
    }
   ],
   "source": [
    "using PyPlot, Compose, ColorTypes, DataFrames\n",
    "\n",
    "ae = ArellanoEconomy(ny=21,     # number of points in y grid\n",
    "                     nB=200)     # number of points in B grid\n",
    "\n",
    "# now solve the model on the grid. \n",
    "@time vfi!(ae)"
   ]
  },
  {
   "cell_type": "markdown",
   "metadata": {},
   "source": [
    "Replicate Figure 3 from Arellano (i.e. policy function)"
   ]
  },
  {
   "cell_type": "code",
   "execution_count": 6,
   "metadata": {
    "collapsed": false
   },
   "outputs": [
    {
     "data": {
      "image/png": "[encoded data removed]",
      "text/plain": [
       "PyPlot.Figure(PyObject <matplotlib.figure.Figure object at 0x317965310>)"
      ]
     },
     "metadata": {},
     "output_type": "display_data"
    },
    {
     "data": {
      "text/plain": [
       "PyObject <matplotlib.text.Text object at 0x317a60810>"
      ]
     },
     "execution_count": 6,
     "metadata": {},
     "output_type": "execute_result"
    }
   ],
   "source": [
    "# Create \"Y High\" and \"Y Low\" values as 5% devs from mean\n",
    "high, low = mean(ae.ygrid)*1.05, mean(ae.ygrid)*.95\n",
    "iy_high, iy_low = map(x->searchsortedfirst(ae.ygrid, x), (high, low))\n",
    "\n",
    "# Extract a suitable plot grid\n",
    "x = Float64[]\n",
    "q_low = Float64[]\n",
    "q_high = Float64[]\n",
    "for i=1:ae.nB\n",
    "    b = ae.Bgrid[i]\n",
    "    if -0.35 <= b <= 0  # To match fig 3 of Arellano\n",
    "        push!(x, b)\n",
    "        push!(q_low, ae.q[i, iy_low])\n",
    "        push!(q_high, ae.q[i, iy_high])\n",
    "    end\n",
    "end\n",
    "\n",
    "str = [\"Low\",\"High\"]\n",
    "vals_plot = [q_low q_high]\n",
    "\n",
    "fig, ax = subplots()\n",
    "for i in 1:2\n",
    "    str_i = str[i]\n",
    "    ax[:plot](x,vals_plot[:,i], linewidth=0.9, label=\"$str_i\", alpha=1)\n",
    "end\n",
    "ax[:legend](loc=\"upper left\")\n",
    "title(\"Bond price schedule q(y, B')\")\n",
    "xlabel(\"B'\"); ylabel(\"q\")"
   ]
  },
  {
   "cell_type": "code",
   "execution_count": 7,
   "metadata": {
    "collapsed": false
   },
   "outputs": [
    {
     "data": {
      "image/png": "[encoded data removed]",
      "text/plain": [
       "PyPlot.Figure(PyObject <matplotlib.figure.Figure object at 0x317edf890>)"
      ]
     },
     "metadata": {},
     "output_type": "display_data"
    },
    {
     "data": {
      "text/plain": [
       "PyObject <matplotlib.text.Text object at 0x317a0f6d0>"
      ]
     },
     "execution_count": 7,
     "metadata": {},
     "output_type": "execute_result"
    }
   ],
   "source": [
    "# Bonds policy B'(B,y)\n",
    "\n",
    "Bp = Array(Float64,ae.nB,ae.ny)\n",
    "\n",
    "for nn=1:ae.ny\n",
    "    Bp[:,nn] = ae.Bgrid[ae.policy[:,nn]]\n",
    "end\n",
    "\n",
    "# Extract a suitable plot grid\n",
    "xb = Float64[]\n",
    "bp_low = Float64[]\n",
    "bp_high = Float64[]\n",
    "for i=1:ae.nB\n",
    "    b = ae.Bgrid[i]\n",
    "    if -0.3 <= b <= 0.15  # To match fig 3 of Arellano\n",
    "        push!(xb, b)\n",
    "        push!(bp_low, Bp[i, iy_low])\n",
    "        push!(bp_high, Bp[i, iy_high])\n",
    "    end\n",
    "end\n",
    "\n",
    "vals_plot = [bp_low bp_high]\n",
    "\n",
    "fig, ax = subplots()\n",
    "for i in 1:2\n",
    "    str_i = str[i]\n",
    "    ax[:plot](xb,vals_plot[:,i], linewidth=0.9, label=\"$str_i\", alpha=1)\n",
    "end\n",
    "ax[:legend](loc=\"upper left\")\n",
    "title(\"Bond schedule B'(B, y)\")\n",
    "xlabel(\"B\"); ylabel(\"B'\")"
   ]
  },
  {
   "cell_type": "markdown",
   "metadata": {},
   "source": [
    "Plot the value function"
   ]
  },
  {
   "cell_type": "code",
   "execution_count": 8,
   "metadata": {
    "collapsed": false
   },
   "outputs": [
    {
     "data": {
      "image/png": "[encoded data removed]",
      "text/plain": [
       "PyPlot.Figure(PyObject <matplotlib.figure.Figure object at 0x317aba050>)"
      ]
     },
     "metadata": {},
     "output_type": "display_data"
    },
    {
     "data": {
      "text/plain": [
       "PyObject <matplotlib.text.Text object at 0x317f16d10>"
      ]
     },
     "execution_count": 8,
     "metadata": {},
     "output_type": "execute_result"
    }
   ],
   "source": [
    "vals_plot = [ae.vf[:,iy_low] ae.vf[:,iy_high]]\n",
    "\n",
    "fig, ax = subplots()\n",
    "for i in 1:2\n",
    "    str_i = str[i]\n",
    "    ax[:plot](ae.Bgrid,vals_plot[:,i], linewidth=0.9, label=\"$str_i\", alpha=1)\n",
    "end\n",
    "ax[:legend](loc=\"upper left\")\n",
    "title(\"Value functions\")\n",
    "xlabel(\"B\"); ylabel(\"V(y,B)\")\n",
    "\n"
   ]
  },
  {
   "cell_type": "code",
   "execution_count": 9,
   "metadata": {
    "collapsed": false,
    "scrolled": false
   },
   "outputs": [
    {
     "data": {
      "image/png": "[encoded data removed]",
      "text/plain": [
       "PyPlot.Figure(PyObject <matplotlib.figure.Figure object at 0x317fbec90>)"
      ]
     },
     "metadata": {},
     "output_type": "display_data"
    },
    {
     "data": {
      "text/plain": [
       "PyObject <matplotlib.text.Text object at 0x317fffe90>"
      ]
     },
     "execution_count": 9,
     "metadata": {},
     "output_type": "execute_result"
    }
   ],
   "source": [
    "# Interest Rates\n",
    "\n",
    "# Extract a suitable plot grid\n",
    "xr = Float64[]\n",
    "r_low = Float64[]\n",
    "r_high = Float64[]\n",
    "\n",
    "for i=1:ae.nB\n",
    "    b = ae.Bgrid[i]\n",
    "    if -0.12 <= b <= 0.03\n",
    "        push!(xr, b)\n",
    "        if ae.vf[i,iy_low]==ae.vc[i,iy_low]\n",
    "            push!(r_low, (1/ae.q[ae.policy[i,iy_low], iy_low]-1)*4)\n",
    "        else\n",
    "            push!(r_low, NaN)\n",
    "        end\n",
    "        if ae.vf[i,iy_high]==ae.vc[i,iy_high]\n",
    "            push!(r_high, (1/ae.q[ae.policy[i,iy_high], iy_high]-1)*4)\n",
    "        else\n",
    "            push!(r_high, NaN)\n",
    "        end\n",
    "    end\n",
    "end\n",
    "\n",
    "vals_plot = [r_low r_high]\n",
    "\n",
    "fig, ax = subplots()\n",
    "for i in 1:2\n",
    "    str_i = str[i]\n",
    "    ax[:plot](xr,vals_plot[:,i], linewidth=0.9, label=\"$str_i\", alpha=1)\n",
    "end\n",
    "ax[:legend](loc=\"upper left\")\n",
    "title(\"Annualized equilibrium interest rate 1/q(B'(B,y),y)\")\n",
    "xlabel(\"B\"); ylabel(\"r\")\n"
   ]
  },
  {
   "cell_type": "markdown",
   "metadata": {},
   "source": [
    "### Simulate Once\n",
    "\n",
    "We now create a subfield `simulate_ae` to capture the required information for the simulation. The function `simulate_ae` will give values to that type. What follows is similar to the original Arellano."
   ]
  },
  {
   "cell_type": "code",
   "execution_count": 10,
   "metadata": {
    "collapsed": true
   },
   "outputs": [],
   "source": [
    "type simulate_ae <: ArellanoModel\n",
    "    capT::Int64\n",
    "    Π::Array{Float64}\n",
    "    Πsum::Array{Float64}\n",
    "    random_numbers::Vector{Float64}\n",
    "    y_init::Float64\n",
    "    y_sim_ind::Vector{Int64}\n",
    "    y_sim_val::Vector{Float64}\n",
    "end"
   ]
  },
  {
   "cell_type": "code",
   "execution_count": 11,
   "metadata": {
    "collapsed": false
   },
   "outputs": [
    {
     "data": {
      "text/plain": [
       "simulate_ae"
      ]
     },
     "execution_count": 11,
     "metadata": {},
     "output_type": "execute_result"
    }
   ],
   "source": [
    "function simulate_ae(ae::ArellanoEconomy; capT=2000, Π=ae.Π, y_init=mean(ae.ygrid))\n",
    "\n",
    "    Πsum = similar(Π)\n",
    "    cumsum!(Πsum,Π,2)\n",
    "    y_sim_ind = Array(Int64,capT+1)\n",
    "    \n",
    "    y_init_ind = searchsortedfirst(ae.ygrid,y_init)\n",
    "    \n",
    "    y_sim_ind[1] = y_init_ind\n",
    "    \n",
    "    distrib = Uniform()\n",
    "    random_numbers = rand(distrib,capT)\n",
    "    \n",
    "    for tt=2:capT+1\n",
    "        y_ind = y_sim_ind[tt-1]\n",
    "        prob  = Πsum[y_ind,:]'[:,1]\n",
    "        y_sim_ind[tt] = searchsortedfirst(prob, random_numbers[tt-1])\n",
    "    end\n",
    "    \n",
    "    y_sim_val = ae.ygrid[y_sim_ind]\n",
    "    \n",
    "    \n",
    "    return simulate_ae(capT,Π,Πsum,random_numbers,y_init,y_sim_ind,y_sim_val)\n",
    "end"
   ]
  },
  {
   "cell_type": "code",
   "execution_count": 12,
   "metadata": {
    "collapsed": false
   },
   "outputs": [
    {
     "data": {
      "text/plain": [
       "simulate_variables (generic function with 1 method)"
      ]
     },
     "execution_count": 12,
     "metadata": {},
     "output_type": "execute_result"
    }
   ],
   "source": [
    "function simulate_variables(ae::ArellanoEconomy, sae::simulate_ae; B_init=mean(ae.Bgrid))\n",
    "\n",
    "    y_init = sae.y_init\n",
    "    capT = sae.capT\n",
    "    \n",
    "    # Get initial indices\n",
    "    zero_index = searchsortedfirst(ae.Bgrid, 0.)\n",
    "    y_init_ind = searchsortedfirst(ae.ygrid, y_init)\n",
    "    B_init_ind = searchsortedfirst(ae.Bgrid, B_init)\n",
    "    initial_dist, meany = zeros(ae.ny), mean(ae.ygrid)\n",
    "    initial_dist[y_init_ind] = 1\n",
    "\n",
    "    y_sim_indices = sae.y_sim_ind\n",
    "\n",
    "    # Allocate and Fill output\n",
    "    y_sim_val = Array(Float64, capT+1)\n",
    "    B_sim_val, q_sim_val, c_sim_val = similar(y_sim_val), similar(y_sim_val), similar(y_sim_val)\n",
    "    B_sim_indices = Array(Int64, capT+1)\n",
    "    default_status = fill(false, capT+1)\n",
    "    B_sim_indices[1], default_status[1] = B_init_ind, false\n",
    "    y_sim_val[1], B_sim_val[1] = ae.ygrid[y_init_ind], ae.Bgrid[B_init_ind]\n",
    "    \n",
    "    start_default = []\n",
    "    end_default   = []\n",
    "    \n",
    "    q_sim_def = Float64[]\n",
    "\n",
    "    for t=1:capT\n",
    "        # Get today's indexes\n",
    "        yi, Bi = y_sim_indices[t], B_sim_indices[t]\n",
    "        defstat = default_status[t]\n",
    "\n",
    "        # If you are not in default\n",
    "        if !defstat\n",
    "            default_today = ae.vc[Bi, yi] < ae.vd[yi] ? true: false\n",
    "\n",
    "            if default_today\n",
    "                # Default values\n",
    "                default_status[t] = true\n",
    "                default_status[t+1] = true\n",
    "                y_sim_val[t] = ae.ydefgrid[y_sim_indices[t]]\n",
    "                c_sim_val[t] = y_sim_val[t]\n",
    "                B_sim_indices[t+1] = zero_index\n",
    "                B_sim_val[t+1] = 0.\n",
    "                q_sim_val[t] = ae.q[zero_index, y_sim_indices[t]]\n",
    "                push!(q_sim_def,q_sim_val[t-1])\n",
    "                push!(start_default,t)\n",
    "            else\n",
    "                default_status[t] = false\n",
    "                y_sim_val[t] = ae.ygrid[y_sim_indices[t]]\n",
    "                B_sim_indices[t+1] = ae.policy[Bi, yi]\n",
    "                B_sim_val[t+1] = ae.Bgrid[B_sim_indices[t+1]]\n",
    "                q_sim_val[t] = ae.q[B_sim_indices[t+1], y_sim_indices[t]]\n",
    "                c_sim_val[t] = y_sim_val[t] - q_sim_val[t]*B_sim_val[t+1] + B_sim_val[t]\n",
    "            end\n",
    "\n",
    "        # If you are in default\n",
    "        else\n",
    "            B_sim_indices[t+1] = zero_index\n",
    "            B_sim_val[t+1] = 0.\n",
    "            y_sim_val[t] = ae.ydefgrid[y_sim_indices[t]]\n",
    "            c_sim_val[t] = y_sim_val[t]\n",
    "            q_sim_val[t] = ae.q[zero_index, y_sim_indices[t]]\n",
    "\n",
    "            # With probability θ exit default status\n",
    "            if rand() < ae.θ\n",
    "                default_status[t+1] = false\n",
    "                push!(end_default,t)\n",
    "            else\n",
    "                default_status[t+1] = true\n",
    "            end\n",
    "        end\n",
    "    end\n",
    "\n",
    "    return (y_sim_val[1:capT], B_sim_val[1:capT], q_sim_val[1:capT],\n",
    "    default_status[1:capT],q_sim_def,c_sim_val[1:capT],start_default,end_default)\n",
    "end"
   ]
  },
  {
   "cell_type": "code",
   "execution_count": null,
   "metadata": {
    "collapsed": false
   },
   "outputs": [],
   "source": [
    "T = 250\n",
    "\n",
    "sae = simulate_ae(ae;capT=T)\n",
    "\n",
    "# simulate\n",
    "y_vec, B_vec, q_vec, default_vec = simulate_variables(ae, sae)\n",
    "\n",
    "# using Gadfly\n",
    "\n",
    "# # find starting and ending periods of recessions (if any)\n",
    "# if any(default_vec)\n",
    "#     defs = find(default_vec)\n",
    "#     def_breaks = diff(defs) .> 1\n",
    "#     def_start = defs[[true; def_breaks]]\n",
    "#     def_end = defs[[def_breaks; true]]\n",
    "# else\n",
    "#     starts, ends = Int[], Int[]\n",
    "# end\n",
    "\n",
    "# # construct boxes that shade periods of default\n",
    "# def_box = Guide.annotation(compose(context(), \n",
    "#                                    [rectangle(i[1], 0h, i[2]-i[1], 1h) \n",
    "#                                     for i=zip(def_start, def_end)]...,\n",
    "#                                   fill(RGBA(0.5, 0.5, 0.5, 0.2))))\n",
    "\n",
    "# # xy labels are common for all plots\n",
    "# xy_lab = [Guide.xlabel(\"time\"), Guide.ylabel(\"\")]\n",
    "\n",
    "# # now iterate over three variables and put them into an array\n",
    "# plots = Gadfly.Plot[]\n",
    "# for (vec, name) in [(y_vec, \"Output\"), (B_vec, \"Foreign assets\"), (q_vec, \"Bond price\")]\n",
    "#     push!(plots, \n",
    "#           plot(x=1:T, y=vec, Geom.line, def_box, Guide.title(name), xy_lab...))\n",
    "# end\n",
    "\n",
    "# # set final plot height and vertically stack the above three plots\n",
    "# set_default_plot_size(6inch, 8inch)\n",
    "# vstack(plots...)"
   ]
  },
  {
   "cell_type": "markdown",
   "metadata": {},
   "source": [
    "### Simulations for Statistics\n",
    "\n",
    "Run simulations and calculate probability of default. We follow here the approach in Arellano (2008), where simulataions are done for a large T and 100 default episodes with pre-default histories of 74 periods are filtered to compite the statistic in table 4 form Arellano (2008)."
   ]
  },
  {
   "cell_type": "code",
   "execution_count": 16,
   "metadata": {
    "collapsed": false
   },
   "outputs": [],
   "source": [
    "using StatsBase\n",
    "\n",
    "T2 = 600000\n",
    "sae = simulate_ae(ae;capT=T2)\n",
    "\n",
    "y_vec, B_vec, q_vec, default_vec,q_sim_def, c_vec, start_default, end_default= simulate_variables(ae, sae);\n",
    "\n",
    "default_probability = length(start_default)/(T2 - sum(default_vec))*100\n",
    "default_probability2 = sum(default_vec)/T2*100;\n"
   ]
  },
  {
   "cell_type": "markdown",
   "metadata": {},
   "source": [
    "Identify begining and ending of default events with pre-default history of 74 periods or more. Choose only the last 100 of them. This is following Arellano (2008) who takes the limiting distribution of assets."
   ]
  },
  {
   "cell_type": "code",
   "execution_count": 17,
   "metadata": {
    "collapsed": false
   },
   "outputs": [],
   "source": [
    "Tmax = 74 # time horizon for each sample, from Arellano (2008)\n",
    "Nsamples = 1500 # number of samples\n",
    "\n",
    "## Save only default episodes with previous history of at least Tmax periods\n",
    "\n",
    "# Find first time that subsample is long enough and redefine vectors\n",
    "ind_first     = findfirst(start_default.>=Tmax) \n",
    "start_default = start_default[ind_first:end]\n",
    "end_default   = end_default[ind_first:end]\n",
    "\n",
    "# Find distance between defaults and save only those subsamples long enough\n",
    "diff_start_end = start_default[2:end] - end_default[1:end-1]\n",
    "filter_sample  = find(diff_start_end.>=Tmax)\n",
    "\n",
    "start_default_sample = [start_default[1];start_default[filter_sample + 1]]\n",
    "end_default_sample   = [end_default[filter_sample];end_default[filter_sample[end]+1]];\n",
    "\n",
    "# Get the last Nsamples default events\n",
    "start_default_sample = start_default_sample[end-Nsamples+1:end]\n",
    "end_default_sample   = end_default_sample[end-Nsamples+1:end];"
   ]
  },
  {
   "cell_type": "markdown",
   "metadata": {},
   "source": [
    "Compute statistics for pre-default periods:"
   ]
  },
  {
   "cell_type": "code",
   "execution_count": 18,
   "metadata": {
    "collapsed": false
   },
   "outputs": [],
   "source": [
    "yvals_sim = Array(Float64,Tmax,length(start_default_sample))\n",
    "\n",
    "bvals_sim,qvals_sim,cvals_sim,tbvals_sim,spread_sim = \n",
    "similar(yvals_sim),similar(yvals_sim),similar(yvals_sim),similar(yvals_sim),similar(yvals_sim)\n",
    "\n",
    "corr_y_spread = Array(Float64,length(start_default_sample),1)\n",
    "\n",
    "corr_y_tbalance,corr_y_consumption,corr_r_tbalance,corr_r_consumption = \n",
    "similar(corr_y_spread),similar(corr_y_spread),similar(corr_y_spread),similar(corr_y_spread)\n",
    "\n",
    "# Statistics 74 periods previous to default\n",
    "\n",
    "for ii=1:length(start_default_sample)\n",
    "    init  = start_default_sample[ii]-Tmax\n",
    "    final = start_default_sample[ii]-1\n",
    "        \n",
    "    yvals_sim[:,ii]  = y_vec[init:final]\n",
    "    bvals_sim[:,ii]  = B_vec[init:final]./yvals_sim[:,ii]\n",
    "    qvals_sim[:,ii]  = q_vec[init:final]\n",
    "    cvals_sim[:,ii]  = c_vec[init:final]\n",
    "    tbvals_sim[:,ii] = (yvals_sim[:,ii] - cvals_sim[:,ii])./yvals_sim[:,ii]\n",
    "    spread_sim[:,ii] = (1./q_vec[init:final] - ae.r - 1)\n",
    "    \n",
    "    corr_y_spread[ii]      = cov(spread_sim[:,ii],yvals_sim[:,ii])/(std(spread_sim[:,ii])*std(yvals_sim[:,ii]))\n",
    "    corr_y_tbalance[ii]    = cov(tbvals_sim[:,ii],yvals_sim[:,ii])/(std(tbvals_sim[:,ii])*std(yvals_sim[:,ii]))\n",
    "    corr_y_consumption[ii] = cov(cvals_sim[:,ii],yvals_sim[:,ii])/(std(cvals_sim[:,ii])*std(yvals_sim[:,ii]))\n",
    "    \n",
    "    corr_r_tbalance[ii]    = cov(tbvals_sim[:,ii],spread_sim[:,ii])/(std(tbvals_sim[:,ii])*std(spread_sim[:,ii]))\n",
    "    corr_r_consumption[ii] = cov(cvals_sim[:,ii],spread_sim[:,ii])/(std(cvals_sim[:,ii])*std(spread_sim[:,ii]))\n",
    "end\n",
    "\n",
    "mean_spread   = mean(spread_sim)*400\n",
    "mean_tbalance = mean(tbvals_sim)*100\n",
    "mean_debt_y   = -mean(bvals_sim)*100\n",
    "\n",
    "mean_consumption = mean(cvals_sim)\n",
    "mean_output      = mean(yvals_sim)\n",
    "\n",
    "std_spread       = mean(std(spread_sim,1))*400\n",
    "std_tbalance     = mean(std(tbvals_sim,1))*100\n",
    "std_consumption  = mean(std(cvals_sim,1))*100\n",
    "std_output       = mean(std(yvals_sim,1))*100\n",
    "\n",
    "corr_y_spread      = mean(corr_y_spread)\n",
    "corr_y_tbalance    = mean(corr_y_tbalance)\n",
    "corr_y_consumption = mean(corr_y_consumption)\n",
    "corr_r_tbalance    = mean(corr_r_tbalance)\n",
    "corr_r_consumption = mean(corr_r_consumption);"
   ]
  },
  {
   "cell_type": "markdown",
   "metadata": {},
   "source": [
    "Compute moments for Default Episodes as in Table 4 of Arellano (2008).\n",
    "Consumption, output and trade balance deviations are measured with respect to the pre-default periods' mean.\n",
    "Interest rates spread is measured at one period before declaring default."
   ]
  },
  {
   "cell_type": "code",
   "execution_count": 19,
   "metadata": {
    "collapsed": false
   },
   "outputs": [],
   "source": [
    "## Statistics in period previous to default\n",
    "\n",
    "spread_default_episode   = (1./q_vec[start_default_sample-1] - ae.r - 1)\n",
    "\n",
    "mean_spread_default_episode   = mean(spread_default_episode)*400\n",
    "\n",
    "\n",
    "mean_consumption_default_episode = mean(c_vec[start_default_sample-1])\n",
    "fall_consumption = mean((mean(cvals_sim,1)'[:,1] - c_vec[start_default_sample-1])./(mean(cvals_sim,1)'[:,1]))*100\n",
    "\n",
    "mean_output_default_episode = mean(y_vec[start_default_sample-1])\n",
    "fall_output = mean((mean(yvals_sim,1)'[:,1] - y_vec[start_default_sample-1])./(mean(yvals_sim,1)'[:,1]))*100\n",
    "\n",
    "tbalance_default_episode = mean((c_vec[start_default_sample-1] - \n",
    "y_vec[start_default_sample-1])/y_vec[start_default_sample-1])\n",
    "\n",
    "tbalance_pre_default     = (mean((yvals_sim-cvals_sim)./yvals_sim,1)'[:,1])\n",
    "tbalance_default_episode = (y_vec[start_default_sample-1] - c_vec[start_default_sample-1])./y_vec[start_default_sample-1]\n",
    "\n",
    "variation_tbalance_episode = mean(tbalance_default_episode - tbalance_pre_default)*100\n",
    "\n",
    "\n",
    "# Standard Deviations\n",
    "std_spread_default_episode       = mean(std(spread_default_episode,1))*400\n",
    "std_tbalance_default_episode     = mean(std(tbalance_default_episode,1))\n",
    "std_consumption_default_episode  = mean(std(c_vec[start_default_sample-1],1))*100\n",
    "std_output_default_episode       = mean(std(y_vec[start_default_sample-1],1))*100\n",
    "\n",
    "\n",
    "# Correlations with output\n",
    "corr_spread_y_default_episode = cov(spread_default_episode,y_vec[start_default_sample-1])/\n",
    "(std(spread_default_episode)*std(y_vec[start_default_sample-1]))\n",
    "\n",
    "corr_tbalance_y_default_episode = cov(tbalance_default_episode,y_vec[start_default_sample-1])/\n",
    "(std(tbalance_default_episode)*std(y_vec[start_default_sample-1]))\n",
    "\n",
    "corr_consumption_y_default_episode = cov(c_vec[start_default_sample-1],y_vec[start_default_sample-1])/\n",
    "(std(c_vec[start_default_sample-1])*std(y_vec[start_default_sample-1]))\n",
    "\n",
    "# Correlations with Spreads\n",
    "corr_tbalance_r_default_episode = cov(tbalance_default_episode,spread_default_episode)/\n",
    "(std(tbalance_default_episode)*std(spread_default_episode))\n",
    "\n",
    "corr_consumption_r_default = cov(c_vec[start_default_sample-1],spread_default_episode)/\n",
    "(std(c_vec[start_default_sample-1])*std(spread_default_episode));"
   ]
  },
  {
   "cell_type": "code",
   "execution_count": 20,
   "metadata": {
    "collapsed": false
   },
   "outputs": [],
   "source": [
    "## Variables during default\n",
    "\n",
    "yvals_sim_default = Array{Float64}[]\n",
    "\n",
    "for ii=1:length(start_default_sample)\n",
    "    init  = start_default_sample[ii]\n",
    "    final = end_default_sample[ii]\n",
    "        \n",
    "    push!(yvals_sim_default,y_vec[init:final])\n",
    "end\n",
    "\n",
    "\n",
    "# Compute moments\n",
    "\n",
    "mean_y_default = Float64[]\n",
    "\n",
    "for ii=1:length(start_default_sample)\n",
    "    y = yvals_sim_default[ii]\n",
    "    push!(mean_y_default,mean(y))\n",
    "\n",
    "end\n",
    "\n",
    "mean_y_default = mean(mean_y_default)\n",
    "\n",
    "deviation_output = (mean_y_default/mean_output - 1)*100;"
   ]
  },
  {
   "cell_type": "code",
   "execution_count": 21,
   "metadata": {
    "collapsed": false
   },
   "outputs": [
    {
     "name": "stdout",
     "output_type": "stream",
     "text": [
      "Numbers for Table 4 from Arellano (2008)\n",
      "For one period before default\n",
      "Default Episodes - Interest rate spread: 56.23975901582289\n",
      "Default Episodes - Trade Balance: 0.5286329527268336\n",
      "Default Episodes - Fall Consumption (positive = fall): 7.564984434257939\n",
      "Default Episodes - Fall Output (positive = fall): 7.037529701647303\n",
      " \n",
      "Standard Deviation - Interest rate spread: 16.942167523465454\n",
      "Standard Deviation - Trade Balance: 1.3711258939127404\n",
      "Standard Deviation - Consumption: 6.172227109933002\n",
      "Standard Deviation - Output: 5.6048839483169886\n",
      " \n",
      "Correlation Y - Interest rate spread: -0.5165490272776847\n",
      "Correlation Y - Trade Balance: -0.2741661464900665\n",
      "Correlation Y - Consumption: 0.9732268635743344\n",
      " \n",
      "Correlation R - Trade Balance: 0.25550464243931953\n",
      "Correlation R - Consumption: -0.5315127085378333\n",
      " \n",
      " \n",
      "Other statistics - Samples excluding defaults\n",
      "Mean Debt (percent output): 5.2076165091358275\n",
      "Mean Spread: 7.772739706439959\n",
      "Output deviation in default: -8.31813805375975\n",
      "Probability of Default: 3.6353366602418897\n"
     ]
    }
   ],
   "source": [
    "println(\"Numbers for Table 4 from Arellano (2008)\")\n",
    "println(\"For one period before default\")\n",
    "println(\"Default Episodes - Interest rate spread: $(mean_spread_default_episode)\")\n",
    "println(\"Default Episodes - Trade Balance: $(variation_tbalance_episode)\")\n",
    "println(\"Default Episodes - Fall Consumption (positive = fall): $(fall_consumption)\")\n",
    "println(\"Default Episodes - Fall Output (positive = fall): $(fall_output)\")\n",
    "println(\" \")\n",
    "println(\"Standard Deviation - Interest rate spread: $(std_spread)\")\n",
    "println(\"Standard Deviation - Trade Balance: $(std_tbalance)\")\n",
    "println(\"Standard Deviation - Consumption: $(std_consumption)\")\n",
    "println(\"Standard Deviation - Output: $(std_output)\")\n",
    "println(\" \")\n",
    "println(\"Correlation Y - Interest rate spread: $(corr_y_spread)\")\n",
    "println(\"Correlation Y - Trade Balance: $(corr_y_tbalance)\")\n",
    "println(\"Correlation Y - Consumption: $(corr_y_consumption)\")\n",
    "println(\" \")\n",
    "println(\"Correlation R - Trade Balance: $(corr_r_tbalance)\")\n",
    "println(\"Correlation R - Consumption: $(corr_r_consumption)\")\n",
    "println(\" \")\n",
    "println(\" \")\n",
    "println(\"Other statistics - Samples excluding defaults\")\n",
    "println(\"Mean Debt (percent output): $(mean_debt_y)\")\n",
    "println(\"Mean Spread: $(mean_spread)\")\n",
    "println(\"Output deviation in default: $(deviation_output)\")\n",
    "println(\"Probability of Default: $(default_probability)\")\n"
   ]
  }
 ],
 "metadata": {
  "kernelspec": {
   "display_name": "Julia 0.4.0",
   "language": "julia",
   "name": "julia-0.4"
  },
  "language_info": {
   "file_extension": ".jl",
   "mimetype": "application/julia",
   "name": "julia",
   "version": "0.4.0"
  }
 },
 "nbformat": 4,
 "nbformat_minor": 0
}
