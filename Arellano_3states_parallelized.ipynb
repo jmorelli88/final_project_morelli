{
 "cells": [
  {
   "cell_type": "markdown",
   "metadata": {},
   "source": [
    "## Arellano Economy with Three States\n",
    "\n",
    "In the summary we specify the model. The main difference is that we decompose the income process between a systemic component $\\Delta_{t}$ and an idiosyncratic component $\\epsilon_{it}$. We assume the processes are independent, so we can create two independent Tauchen processes, obtain their marginal Markov transition matrix and then just compite the kroenecker product for the joint Markov matrix.\n",
    "\n",
    "First define the ArellanoEconomy type which will contain all the parameters that define this economy.\n",
    "Note that since we are parallelizing, we have to define the ArellanoModel type everywhere. The parallelization will be done in the outer loop (nodes on output) and each worker will find the point in the grid in next period's bonds that maximizes the value function. This is the same maximization algorithm as in the original Arellano code from QuantEcon.\n",
    "\n",
    "Since each worker will be inside the `one_step_update!` function, we do not have to set everywhere the `HIS!` and `VFI!` and `compute_prices!` functions."
   ]
  },
  {
   "cell_type": "code",
   "execution_count": 1,
   "metadata": {
    "collapsed": false
   },
   "outputs": [],
   "source": [
    "addprocs(4)\n",
    "\n",
    "using QuantEcon, Distributions\n",
    "\n",
    "@everywhere begin\n",
    "\n",
    "    using QuantEcon\n",
    "    \n",
    "    abstract ArellanoModel\n",
    "\n",
    "    immutable ArellanoEconomy <: ArellanoModel\n",
    "        # Model Parameters\n",
    "        β::Float64\n",
    "        γ::Float64\n",
    "        r::Float64\n",
    "        ρΔ::Float64\n",
    "        ρϵ::Float64\n",
    "        ηΔ::Float64\n",
    "        ηϵ::Float64\n",
    "        θ::Float64\n",
    "\n",
    "        # Grid Parameters\n",
    "        nΔ::Int64\n",
    "        nϵ::Int64\n",
    "        nB::Int64\n",
    "        ns::Int64\n",
    "        Δgrid::Array{Float64, 1}\n",
    "        ϵgrid::Array{Float64, 1}\n",
    "        sgrid::Array{Float64, 2} # Will contain the pair (Δ,ϵit) that give value for y\n",
    "        ygrid::Array{Float64, 1}\n",
    "        ydefgrid::Array{Float64, 1}\n",
    "        Bgrid::Array{Float64, 1}\n",
    "        ΠΔ::Array{Float64, 2}\n",
    "        Πϵ::Array{Float64, 2}\n",
    "        Π::Array{Float64, 2}\n",
    "\n",
    "        # Value function\n",
    "        vf::Array{Float64, 2}\n",
    "        vd::Array{Float64, 2}\n",
    "        vc::Array{Float64, 2}\n",
    "        policy::Array{Int64, 2}\n",
    "        q::Array{Float64, 2}\n",
    "        defprob::Array{Float64, 2}\n",
    "    end\n",
    "    \n",
    "    u(ae::ArellanoEconomy, c) = c^(1 - ae.γ) / (1 - ae.γ)\n",
    "    \n",
    "    function one_step_update!(ae::ArellanoEconomy, EV::Matrix{Float64},\n",
    "                          EVd::Matrix{Float64}, EVc::Matrix{Float64})\n",
    "\n",
    "        zero_ind = searchsortedfirst(ae.Bgrid, 0.)\n",
    "        \n",
    "        VC = SharedArray(Float64,size(ae.vc))\n",
    "        PL = SharedArray(Float64,size(ae.policy))\n",
    "        VF = SharedArray(Float64,size(ae.vf))\n",
    "        VD = SharedArray(Float64,size(ae.vd))\n",
    "\n",
    "        @sync @parallel for is=1:ae.ns\n",
    "            y = ae.ygrid[is]\n",
    "            ydef = ae.ydefgrid[is]\n",
    "\n",
    "            # Value of being in default with income y\n",
    "            defval = u(ae, ydef) + ae.β*(ae.θ*EVc[zero_ind, is] + (1-ae.θ)*EVd[1, is])\n",
    "            VD[1, is] = defval\n",
    "\n",
    "           for ib=1:ae.nB\n",
    "                B = ae.Bgrid[ib]\n",
    "\n",
    "                current_max = -1e14\n",
    "                pol_ind = 0\n",
    "                for ib_next=1:ae.nB\n",
    "                    c = max(y - ae.q[ib_next, is]*ae.Bgrid[ib_next] + B, 1e-14)\n",
    "                    m = u(ae, c) + ae.β * EV[ib_next, is]\n",
    "\n",
    "                    if m > current_max\n",
    "                        current_max = m\n",
    "                        pol_ind = ib_next\n",
    "                    end\n",
    "\n",
    "                end\n",
    "\n",
    "                # Update value and policy functions\n",
    "                VC[ib, is] = current_max\n",
    "                PL[ib, is] = pol_ind\n",
    "                VF[ib, is] = defval > current_max ? defval: current_max\n",
    "            end\n",
    "            \n",
    "        end\n",
    "        \n",
    "        copy!(ae.vc,VC)\n",
    "        copy!(ae.policy,PL)\n",
    "        copy!(ae.vf,VF)\n",
    "        copy!(ae.vd,VD)\n",
    "\n",
    "        Void\n",
    "    end\n",
    "end"
   ]
  },
  {
   "cell_type": "markdown",
   "metadata": {},
   "source": [
    "As in the HIS version of the two-state Arellano, we now define the HIS and VFI functions. The HIS is to increase speed, as already stated."
   ]
  },
  {
   "cell_type": "code",
   "execution_count": 2,
   "metadata": {
    "collapsed": false
   },
   "outputs": [
    {
     "data": {
      "text/plain": [
       "vfi! (generic function with 1 method)"
      ]
     },
     "execution_count": 2,
     "metadata": {},
     "output_type": "execute_result"
    }
   ],
   "source": [
    "function HIS!(ae::ArellanoEconomy, H)\n",
    "    \n",
    "    Πt = ae.Π'\n",
    "    \n",
    "    Vh_upd = zeros(ae.vf)\n",
    "    \n",
    "    zero_ind = searchsortedfirst(ae.Bgrid, 0.)\n",
    "    \n",
    "    ith = 0\n",
    "    \n",
    "    for hh=1:H\n",
    "        \n",
    "        ith+=1\n",
    "        \n",
    "        copy!(Vh_upd,ae.vf)\n",
    "        \n",
    "        EV  = ae.vf * Πt\n",
    "        EVd = ae.vd * Πt\n",
    "        EVc = ae.vc * Πt\n",
    "        \n",
    "        for is=1:ae.ns\n",
    "            y = ae.ygrid[is]\n",
    "            ydef = ae.ydefgrid[is]\n",
    "\n",
    "            # Value of being in default with income y\n",
    "            defval = u(ae, ydef) + ae.β*(ae.θ*EVc[zero_ind, is] + (1-ae.θ)*EVd[1, is])\n",
    "            ae.vd[1, is] = defval\n",
    "\n",
    "            for ib=1:ae.nB\n",
    "                B = ae.Bgrid[ib]\n",
    "                ib_next = ae.policy[ib,is]\n",
    "                \n",
    "                c = max(y - ae.q[ib_next, is]*ae.Bgrid[ib_next] + B, 1e-14)\n",
    "                ae.vc[ib,is] = u(ae, c) + ae.β * EV[ib_next, is]\n",
    "                ae.vf[ib,is] = defval > ae.vc[ib,is] ? defval: ae.vc[ib,is]\n",
    "                end\n",
    "            end\n",
    "        dist_h = maxabs(Vh_upd - ae.vf)\n",
    "        \n",
    "#         if ith%100 == 0\n",
    "#             println(\"Finished HIS iteration $(ith) with dist of $(dist_h)\")\n",
    "#         end\n",
    "    end\n",
    "end\n",
    "\n",
    "function compute_prices!(ae::ArellanoEconomy)\n",
    "\n",
    "    # Create default values with a matching size\n",
    "    vd_compat = repmat(ae.vd, ae.nB)\n",
    "    default_states = vd_compat .> ae.vc\n",
    "\n",
    "    # Update default probabilities and prices\n",
    "    copy!(ae.defprob, default_states * ae.Π')\n",
    "    copy!(ae.q, (1 - ae.defprob) / (1 + ae.r))\n",
    "\n",
    "    Void\n",
    "end\n",
    "\n",
    "function vfi!(ae::ArellanoEconomy; tol=1e-8, maxit=10000)\n",
    "\n",
    "    Πt = ae.Π'\n",
    "\n",
    "    # Iteration stuff\n",
    "    it = 0\n",
    "    dist = 10.\n",
    "\n",
    "    # Allocate memory for update\n",
    "    V_upd = zeros(ae.vf)\n",
    "\n",
    "    while dist > tol && it < maxit\n",
    "        it += 1\n",
    "        \n",
    "        if dist>1e-4\n",
    "\n",
    "            # Compute expectations for this iterations\n",
    "            # (We need Π' because of order value function dimensions)\n",
    "            copy!(V_upd, ae.vf)\n",
    "            EV  = ae.vf * Πt\n",
    "            EVd = ae.vd * Πt\n",
    "            EVc = ae.vc * Πt\n",
    "\n",
    "            # Update Value Function\n",
    "            one_step_update!(ae, EV, EVd, EVc)\n",
    "\n",
    "            # Update prices\n",
    "            compute_prices!(ae)\n",
    "            \n",
    "        else\n",
    "            copy!(V_upd, ae.vf)\n",
    "            \n",
    "            # Howard Iterative Step\n",
    "            H = 2*it\n",
    "            HIS!(ae, H)\n",
    "            \n",
    "            EV  = ae.vf * Πt\n",
    "            EVd = ae.vd * Πt\n",
    "            EVc = ae.vc * Πt\n",
    "            \n",
    "            # Update Value Function\n",
    "            one_step_update!(ae, EV, EVd, EVc)\n",
    "            \n",
    "            # Update prices\n",
    "            compute_prices!(ae)\n",
    "        end\n",
    "\n",
    "        dist = maxabs(V_upd - ae.vf)\n",
    "\n",
    "        if it%50 == 0\n",
    "            println(\"Finished iteration $(it) with dist of $(dist)\")\n",
    "        end\n",
    "    end\n",
    "\n",
    "    println(\"Finished procedure with $(it) iterations and with dist of $(dist)\")\n",
    "    \n",
    "    Void\n",
    "end\n"
   ]
  },
  {
   "cell_type": "code",
   "execution_count": 3,
   "metadata": {
    "collapsed": false
   },
   "outputs": [
    {
     "data": {
      "text/plain": [
       "ArellanoEconomy"
      ]
     },
     "execution_count": 3,
     "metadata": {},
     "output_type": "execute_result"
    }
   ],
   "source": [
    "    function ArellanoEconomy(;β=.953, γ=2., r=0.017, ρΔ=0.85, ρϵ=0.7, ηΔ=0.007, ηϵ=0.018, θ=0.282,\n",
    "        nΔ=12, nϵ=12, nB=800, ns=nΔ*nϵ)\n",
    "\n",
    "        # Create grids\n",
    "        Bgrid = collect(linspace(-.4, .4, nB))\n",
    "        res_markΔ = tauchen(nΔ, ρΔ, ηΔ)\n",
    "        res_markϵ = tauchen(nϵ, ρϵ, ηϵ)\n",
    "        ΠΔ = res_markΔ.p\n",
    "        Πϵ = res_markϵ.p\n",
    "        Π  = kron(ΠΔ,Πϵ)\n",
    "        Δgrid = collect(res_markΔ.state_values)\n",
    "        ϵgrid = collect(res_markϵ.state_values)\n",
    "\n",
    "        sgrid = [kron(Δgrid,ones(nϵ)) kron(ones(nΔ),ϵgrid)]\n",
    "        ygrid = exp(sgrid[:,1]+sgrid[:,2])\n",
    "        ydefgrid = min(.969 * mean(ygrid), ygrid)\n",
    "\n",
    "        # Define value functions (Notice ordered different than Python to take\n",
    "        # advantage of column major layout of Julia)\n",
    "        vf = zeros(nB, ns)\n",
    "        vd = zeros(1, ns)\n",
    "        vc = zeros(nB, ns)\n",
    "        policy = Array(Int64, nB, ns)\n",
    "        q = ones(nB, ns) .* (1 / (1 + r))\n",
    "        defprob = Array(Float64, nB, ns)\n",
    "\n",
    "        return ArellanoEconomy(β, γ, r, ρΔ, ρϵ, ηΔ, ηϵ, θ, nΔ, nϵ, nB, ns, Δgrid, ϵgrid, sgrid, ygrid,\n",
    "        ydefgrid, Bgrid, ΠΔ, Πϵ, Π, vf, vd, vc, policy, q, defprob)\n",
    "    end"
   ]
  },
  {
   "cell_type": "markdown",
   "metadata": {},
   "source": [
    "Write down the code for simulation."
   ]
  },
  {
   "cell_type": "markdown",
   "metadata": {},
   "source": [
    "In what follows the code runs the model and gives several figures."
   ]
  },
  {
   "cell_type": "code",
   "execution_count": 4,
   "metadata": {
    "collapsed": false
   },
   "outputs": [
    {
     "name": "stdout",
     "output_type": "stream",
     "text": [
      "Finished iteration 50 with dist of 0.09652614706901375\n",
      "Finished iteration 100 with dist of 0.008695255746729913\n",
      "Finished iteration 150 with dist of 0.000783298671507282\n",
      "Finished procedure with 195 iterations and with dist of 7.176481631177012e-13\n",
      " 33.349373 seconds (9.33 M allocations: 1.328 GB, 0.77% gc time)\n"
     ]
    },
    {
     "data": {
      "text/plain": [
       "Void"
      ]
     },
     "execution_count": 4,
     "metadata": {},
     "output_type": "execute_result"
    }
   ],
   "source": [
    "ae = ArellanoEconomy(ρΔ=0.85, ρϵ=0.7, ηΔ=0.007, ηϵ=0.018, nΔ=10, nϵ=10, nB=400)\n",
    "\n",
    "# now solve the model on the grid. \n",
    "@time vfi!(ae)"
   ]
  },
  {
   "cell_type": "code",
   "execution_count": 5,
   "metadata": {
    "collapsed": false
   },
   "outputs": [
    {
     "name": "stderr",
     "output_type": "stream",
     "text": [
      "/Users/jmorelli/.julia/v0.4/Conda/deps/usr/lib/python2.7/site-packages/matplotlib/font_manager.py:273: UserWarning: Matplotlib is building the font cache using fc-list. This may take a moment.\n",
      "  warnings.warn('Matplotlib is building the font cache using fc-list. This may take a moment.')\n",
      "/Users/jmorelli/.julia/v0.4/Conda/deps/usr/lib/python2.7/site-packages/matplotlib/font_manager.py:273: UserWarning: Matplotlib is building the font cache using fc-list. This may take a moment.\n",
      "  warnings.warn('Matplotlib is building the font cache using fc-list. This may take a moment.')\n",
      "/Users/jmorelli/.julia/v0.4/Conda/deps/usr/lib/python2.7/site-packages/matplotlib/font_manager.py:273: UserWarning: Matplotlib is building the font cache using fc-list. This may take a moment.\n",
      "  warnings.warn('Matplotlib is building the font cache using fc-list. This may take a moment.')\n",
      "/Users/jmorelli/.julia/v0.4/Conda/deps/usr/lib/python2.7/site-packages/matplotlib/font_manager.py:273: UserWarning: Matplotlib is building the font cache using fc-list. This may take a moment.\n",
      "  warnings.warn('Matplotlib is building the font cache using fc-list. This may take a moment.')\n",
      "/Users/jmorelli/.julia/v0.4/Conda/deps/usr/lib/python2.7/site-packages/matplotlib/font_manager.py:273: UserWarning: Matplotlib is building the font cache using fc-list. This may take a moment.\n",
      "  warnings.warn('Matplotlib is building the font cache using fc-list. This may take a moment.')\n"
     ]
    },
    {
     "data": {
      "image/png": "[encoded data removed]",
      "text/plain": [
       "PyPlot.Figure(PyObject <matplotlib.figure.Figure object at 0x31c2a27d0>)"
      ]
     },
     "metadata": {},
     "output_type": "display_data"
    },
    {
     "data": {
      "text/plain": [
       "PyObject <matplotlib.text.Text object at 0x3225e0810>"
      ]
     },
     "execution_count": 5,
     "metadata": {},
     "output_type": "execute_result"
    }
   ],
   "source": [
    "using PyPlot, Compose, ColorTypes, DataFrames\n",
    "\n",
    "# Create \"Y High\" and \"Y Low\" values as 5% devs from mean\n",
    "high, low = mean(ae.ygrid)*1.05, mean(ae.ygrid)*.95\n",
    "\n",
    "\n",
    "\n",
    "iy_high, iy_low = map(x-> findmin(abs(ae.ygrid - x))[2], (high, low))\n",
    "\n",
    "# Δ_high, ϵ_high = ae.sgrid[iy_high,1], ae.sgrid[iy_high,2]\n",
    "\n",
    "# Extract a suitable plot grid\n",
    "x = Float64[]\n",
    "q_low = Float64[]\n",
    "q_high = Float64[]\n",
    "for i=1:ae.nB\n",
    "    b = ae.Bgrid[i]\n",
    "    if -0.35 <= b <= 0  # To match fig 3 of Arellano\n",
    "        push!(x, b)\n",
    "        push!(q_low, ae.q[i, iy_low])\n",
    "        push!(q_high, ae.q[i, iy_high])\n",
    "    end\n",
    "end\n",
    "\n",
    "str = [\"Low\",\"High\"]\n",
    "vals_plot = [q_low q_high]\n",
    "\n",
    "fig, ax = subplots()\n",
    "for i in 1:2\n",
    "    str_i = str[i]\n",
    "    ax[:plot](x,vals_plot[:,i], linewidth=0.9, label=\"$str_i\", alpha=1)\n",
    "end\n",
    "ax[:legend](loc=\"upper left\")\n",
    "title(\"Bond price schedule q(y, B')\")\n",
    "xlabel(\"B'\"); ylabel(\"q\")"
   ]
  },
  {
   "cell_type": "code",
   "execution_count": 6,
   "metadata": {
    "collapsed": false
   },
   "outputs": [
    {
     "data": {
      "image/png": "[encoded data removed]",
      "text/plain": [
       "PyPlot.Figure(PyObject <matplotlib.figure.Figure object at 0x322a61890>)"
      ]
     },
     "metadata": {},
     "output_type": "display_data"
    },
    {
     "data": {
      "text/plain": [
       "PyObject <matplotlib.text.Text object at 0x31ad72690>"
      ]
     },
     "execution_count": 6,
     "metadata": {},
     "output_type": "execute_result"
    }
   ],
   "source": [
    "# Bonds policy B'(B,y)\n",
    "\n",
    "Bp = Array(Float64,ae.nB,ae.ns)\n",
    "\n",
    "for nn=1:ae.ns\n",
    "    Bp[:,nn] = ae.Bgrid[ae.policy[:,nn]]\n",
    "end\n",
    "\n",
    "# Extract a suitable plot grid\n",
    "xb = Float64[]\n",
    "bp_low = Float64[]\n",
    "bp_high = Float64[]\n",
    "for i=1:ae.nB\n",
    "    b = ae.Bgrid[i]\n",
    "    if -0.3 <= b <= 0.15  # To match fig 3 of Arellano\n",
    "        push!(xb, b)\n",
    "        push!(bp_low, Bp[i, iy_low])\n",
    "        push!(bp_high, Bp[i, iy_high])\n",
    "    end\n",
    "end\n",
    "\n",
    "vals_plot = [bp_low bp_high]\n",
    "\n",
    "fig, ax = subplots()\n",
    "for i in 1:2\n",
    "    str_i = str[i]\n",
    "    ax[:plot](xb,vals_plot[:,i], linewidth=0.9, label=\"$str_i\", alpha=1)\n",
    "end\n",
    "ax[:legend](loc=\"upper left\")\n",
    "title(\"Bond schedule B'(B, y)\")\n",
    "xlabel(\"B\"); ylabel(\"B'\")"
   ]
  },
  {
   "cell_type": "markdown",
   "metadata": {},
   "source": [
    "Plot the value function"
   ]
  },
  {
   "cell_type": "code",
   "execution_count": 7,
   "metadata": {
    "collapsed": false
   },
   "outputs": [
    {
     "ename": "LoadError",
     "evalue": "LoadError: PyError (:PyObject_Call) <type 'exceptions.ValueError'>\nValueError(u'x and y must have same first dimension',)\n  File \"/Users/jmorelli/.julia/v0.4/Conda/deps/usr/lib/python2.7/site-packages/matplotlib/__init__.py\", line 1812, in inner\n    return func(ax, *args, **kwargs)\n  File \"/Users/jmorelli/.julia/v0.4/Conda/deps/usr/lib/python2.7/site-packages/matplotlib/axes/_axes.py\", line 1424, in plot\n    for line in self._get_lines(*args, **kwargs):\n  File \"/Users/jmorelli/.julia/v0.4/Conda/deps/usr/lib/python2.7/site-packages/matplotlib/axes/_base.py\", line 386, in _grab_next_args\n    for seg in self._plot_args(remaining, kwargs):\n  File \"/Users/jmorelli/.julia/v0.4/Conda/deps/usr/lib/python2.7/site-packages/matplotlib/axes/_base.py\", line 364, in _plot_args\n    x, y = self._xy_from_xy(x, y)\n  File \"/Users/jmorelli/.julia/v0.4/Conda/deps/usr/lib/python2.7/site-packages/matplotlib/axes/_base.py\", line 223, in _xy_from_xy\n    raise ValueError(\"x and y must have same first dimension\")\n\nwhile loading In[7], in expression starting on line 2",
     "output_type": "error",
     "traceback": [
      "LoadError: PyError (:PyObject_Call) <type 'exceptions.ValueError'>\nValueError(u'x and y must have same first dimension',)\n  File \"/Users/jmorelli/.julia/v0.4/Conda/deps/usr/lib/python2.7/site-packages/matplotlib/__init__.py\", line 1812, in inner\n    return func(ax, *args, **kwargs)\n  File \"/Users/jmorelli/.julia/v0.4/Conda/deps/usr/lib/python2.7/site-packages/matplotlib/axes/_axes.py\", line 1424, in plot\n    for line in self._get_lines(*args, **kwargs):\n  File \"/Users/jmorelli/.julia/v0.4/Conda/deps/usr/lib/python2.7/site-packages/matplotlib/axes/_base.py\", line 386, in _grab_next_args\n    for seg in self._plot_args(remaining, kwargs):\n  File \"/Users/jmorelli/.julia/v0.4/Conda/deps/usr/lib/python2.7/site-packages/matplotlib/axes/_base.py\", line 364, in _plot_args\n    x, y = self._xy_from_xy(x, y)\n  File \"/Users/jmorelli/.julia/v0.4/Conda/deps/usr/lib/python2.7/site-packages/matplotlib/axes/_base.py\", line 223, in _xy_from_xy\n    raise ValueError(\"x and y must have same first dimension\")\n\nwhile loading In[7], in expression starting on line 2",
      "",
      " [inlined code] from /Users/jmorelli/.julia/v0.4/PyCall/src/exception.jl:81",
      " in pycall at /Users/jmorelli/.julia/v0.4/PyCall/src/PyCall.jl:79",
      " in call at /Users/jmorelli/.julia/v0.4/PyCall/src/PyCall.jl:372",
      " [inlined code] from In[7]:4",
      " in anonymous at no file:3"
     ]
    }
   ],
   "source": [
    "fig, ax = subplots()\n",
    "for i in 1:2\n",
    "    str_i = str[i]\n",
    "    ax[:plot](ae.Bgrid,vals_plot[:,i], linewidth=0.9, label=\"$str_i\", alpha=1)\n",
    "end\n",
    "ax[:legend](loc=\"upper left\")\n",
    "title(\"Value functions\")\n",
    "xlabel(\"B\"); ylabel(\"V(y,B)\")"
   ]
  },
  {
   "cell_type": "code",
   "execution_count": 8,
   "metadata": {
    "collapsed": false
   },
   "outputs": [
    {
     "data": {
      "image/png": "[encoded data removed]",
      "text/plain": [
       "PyPlot.Figure(PyObject <matplotlib.figure.Figure object at 0x322f5c150>)"
      ]
     },
     "metadata": {},
     "output_type": "display_data"
    },
    {
     "data": {
      "text/plain": [
       "PyObject <matplotlib.text.Text object at 0x322f69a90>"
      ]
     },
     "execution_count": 8,
     "metadata": {},
     "output_type": "execute_result"
    }
   ],
   "source": [
    "# Interest Rates\n",
    "\n",
    "# Extract a suitable plot grid\n",
    "xr = Float64[]\n",
    "r_low = Float64[]\n",
    "r_high = Float64[]\n",
    "\n",
    "for i=1:ae.nB\n",
    "    b = ae.Bgrid[i]\n",
    "    if -0.12 <= b <= 0.03\n",
    "        push!(xr, b)\n",
    "        if ae.vf[i,iy_low]==ae.vc[i,iy_low]\n",
    "            push!(r_low, (1/ae.q[ae.policy[i,iy_low], iy_low]-1)*4)\n",
    "        else\n",
    "            push!(r_low, NaN)\n",
    "        end\n",
    "        if ae.vf[i,iy_high]==ae.vc[i,iy_high]\n",
    "            push!(r_high, (1/ae.q[ae.policy[i,iy_high], iy_high]-1)*4)\n",
    "        else\n",
    "            push!(r_high, NaN)\n",
    "        end\n",
    "    end\n",
    "end\n",
    "\n",
    "vals_plot = [r_low r_high]\n",
    "\n",
    "fig, ax = subplots()\n",
    "for i in 1:2\n",
    "    str_i = str[i]\n",
    "    ax[:plot](xr,vals_plot[:,i], linewidth=0.9, label=\"$str_i\", alpha=1)\n",
    "end\n",
    "ax[:legend](loc=\"upper left\")\n",
    "title(\"Annualized equilibrium interest rate 1/q(B'(B,y),y)\")\n",
    "xlabel(\"B\"); ylabel(\"r\")"
   ]
  },
  {
   "cell_type": "markdown",
   "metadata": {},
   "source": [
    "### Simulation for Statistics\n",
    "\n",
    "Nothing new here, except that we are going to simulate two processes now: $\\Delta$ and $\\epsilon$."
   ]
  },
  {
   "cell_type": "code",
   "execution_count": 9,
   "metadata": {
    "collapsed": false
   },
   "outputs": [],
   "source": [
    "using StatsBase\n",
    "\n",
    "Tsim = 50000\n",
    "\n",
    "Δ_init = mean(ae.Δgrid)\n",
    "\n",
    "ΠΔsum = similar(ae.ΠΔ)\n",
    "cumsum!(ΠΔsum,ae.ΠΔ,2)\n",
    "Δ_sim_ind  = Array(Int64,Tsim)\n",
    "Δ_init_ind = searchsortedfirst(ae.Δgrid,Δ_init)\n",
    "Δ_sim_ind[1] = Δ_init_ind\n",
    "    \n",
    "distrib = Uniform()   \n",
    "random_numbers_Δ = rand(distrib,Tsim)   \n",
    "    \n",
    "for tt=2:Tsim\n",
    "    Δ_ind = Δ_sim_ind[tt-1]\n",
    "    prob  = ΠΔsum[Δ_ind,:]'[:,1]\n",
    "    Δ_sim_ind[tt] = searchsortedfirst(prob, random_numbers_Δ[tt-1])\n",
    "end"
   ]
  },
  {
   "cell_type": "code",
   "execution_count": 10,
   "metadata": {
    "collapsed": false
   },
   "outputs": [],
   "source": [
    "ϵ_init = mean(ae.ϵgrid)\n",
    "\n",
    "Πϵsum = similar(ae.Πϵ)\n",
    "cumsum!(Πϵsum,ae.Πϵ,2)\n",
    "ϵ_sim_ind  = Array(Int64,Tsim)\n",
    "ϵ_init_ind = searchsortedfirst(ae.ϵgrid,ϵ_init)\n",
    "ϵ_sim_ind[1,:] = ϵ_init_ind\n",
    "    \n",
    "distrib = Uniform()   \n",
    "random_numbers_ϵ = rand(distrib,Tsim)\n",
    "\n",
    "y_sim_ind = Array(Int64,Tsim)\n",
    "\n",
    "ne = length(ae.ϵgrid)\n",
    "\n",
    "ϵ_val = ae.ϵgrid[ϵ_sim_ind[1]]\n",
    "Δ_val = ae.Δgrid[Δ_sim_ind[1]]\n",
    "y_val = exp(Δ_val+ϵ_val)\n",
    "    \n",
    "y_sim_ind[1] = findmin(abs(y_val-ae.ygrid))[2]\n",
    "    \n",
    "for tt=2:Tsim\n",
    "    ϵ_ind = ϵ_sim_ind[tt-1]\n",
    "    prob  = Πϵsum[ϵ_ind,:]'[:,1]\n",
    "    ϵ_sim_ind[tt] = searchsortedfirst(prob, random_numbers_ϵ[tt-1])\n",
    "        \n",
    "#     y_sim_ind[tt] = (Δ_sim_ind[tt]-1)*ne + ϵ_sim_ind[tt]\n",
    "    ϵ_val = ae.ϵgrid[ϵ_sim_ind[tt]]\n",
    "    Δ_val = ae.Δgrid[Δ_sim_ind[tt]]\n",
    "    y_val = exp(Δ_val+ϵ_val)\n",
    "    \n",
    "    y_sim_ind[tt] = findmin(abs(y_val-ae.ygrid))[2]\n",
    "end"
   ]
  },
  {
   "cell_type": "code",
   "execution_count": 11,
   "metadata": {
    "collapsed": false
   },
   "outputs": [],
   "source": [
    "B_init = mean(ae.Bgrid)\n",
    "zero_index = searchsortedfirst(ae.Bgrid, 0.)\n",
    "B_init_ind = searchsortedfirst(ae.Bgrid, B_init)\n",
    "\n",
    "y_sim_val = Array(Float64,Tsim)\n",
    "q_sim_val, c_sim_val = similar(y_sim_val), similar(y_sim_val)\n",
    "\n",
    "B_sim_val       = Array(Float64,Tsim+1)\n",
    "B_sim_indices   = Array(Int64, Tsim+1)\n",
    "default_status_sim  = fill(false, Tsim+1)\n",
    "\n",
    "q_sim_def = []\n",
    "\n",
    "B_sim_indices[1], default_status_sim[1] = B_init_ind, false\n",
    "y_sim_val[1], B_sim_val[1] = ae.ygrid[y_sim_ind[1]], ae.Bgrid[B_init_ind]  \n",
    "\n",
    "start_default = []\n",
    "end_default = []\n",
    "    \n",
    "for t=1:Tsim\n",
    "    # Get today's indexes\n",
    "    yi, Bi = y_sim_ind[t], B_sim_indices[t]\n",
    "    defstat = default_status_sim[t]\n",
    "\n",
    "    # If you are not in default\n",
    "    if !defstat\n",
    "        default_today = ae.vc[Bi, yi] < ae.vd[yi] ? true: false\n",
    "\n",
    "        if default_today\n",
    "            # Default values\n",
    "            default_status_sim[t] = true\n",
    "            default_status_sim[t+1] = true\n",
    "            y_sim_val[t] = ae.ydefgrid[y_sim_ind[t]]\n",
    "            c_sim_val[t] = y_sim_val[t]\n",
    "            B_sim_indices[t+1] = zero_index\n",
    "            B_sim_val[t+1] = 0.\n",
    "            q_sim_val[t] = ae.q[zero_index, y_sim_ind[t]]\n",
    "            push!(q_sim_def,q_sim_val[t-1])\n",
    "            push!(start_default,t)\n",
    "\n",
    "            else\n",
    "            default_status_sim[t] = false\n",
    "            y_sim_val[t] = ae.ygrid[y_sim_ind[t]]\n",
    "            B_sim_indices[t+1] = ae.policy[Bi, yi]\n",
    "            B_sim_val[t+1] = ae.Bgrid[B_sim_indices[t+1]]\n",
    "            q_sim_val[t]   = ae.q[B_sim_indices[t+1], y_sim_ind[t]]\n",
    "            c_sim_val[t]   = y_sim_val[t] - q_sim_val[t]*B_sim_val[t+1]+B_sim_val[t]\n",
    "                                    \n",
    "            end\n",
    "\n",
    "        # If you are in default\n",
    "        else\n",
    "        B_sim_indices[t+1] = zero_index\n",
    "        B_sim_val[t+1] = 0.\n",
    "        y_sim_val[t] = ae.ydefgrid[y_sim_ind[t]]\n",
    "        c_sim_val[t] = y_sim_val[t]\n",
    "        q_sim_val[t] = ae.q[zero_index, y_sim_ind[t]]\n",
    "\n",
    "        # With probability θ exit default status\n",
    "        if rand() < ae.θ\n",
    "            default_status_sim[t+1] = false\n",
    "            push!(end_default,t)\n",
    "        else\n",
    "            default_status_sim[t+1] = true\n",
    "        end\n",
    "    end\n",
    "end"
   ]
  },
  {
   "cell_type": "markdown",
   "metadata": {},
   "source": [
    "Plot the last 250 observations:"
   ]
  },
  {
   "cell_type": "code",
   "execution_count": null,
   "metadata": {
    "collapsed": false
   },
   "outputs": [],
   "source": [
    "# using Gadfly\n",
    "\n",
    "# # find starting and ending periods of recessions (if any)\n",
    "# if any(default_status_sim)\n",
    "#     defs = find(default_status_sim)\n",
    "#     def_breaks = diff(defs) .> 1\n",
    "#     def_start = defs[[true; def_breaks]]\n",
    "#     def_end = defs[[def_breaks; true]]\n",
    "# else\n",
    "#     starts, ends = Int[], Int[]\n",
    "# end\n",
    "\n",
    "# # construct boxes that shade periods of default\n",
    "# def_box = Guide.annotation(compose(context(), \n",
    "#                                    [rectangle(i[1], 0h, i[2]-i[1], 1h) \n",
    "#                                     for i=zip(def_start, def_end)]...,\n",
    "#                                   fill(RGBA(0.5, 0.5, 0.5, 0.2))))\n",
    "\n",
    "# # xy labels are common for all plots\n",
    "# xy_lab = [Guide.xlabel(\"time\"), Guide.ylabel(\"\")]\n",
    "\n",
    "# # now iterate over three variables and put them into an array\n",
    "# plots = Gadfly.Plot[]\n",
    "# for (vec, name) in [(y_sim_val[end-249:end], \"Output\"), (B_sim_val[end-249:end], \"Foreign assets\"), (q_sim_val[end-249:end], \"Bond price\")]\n",
    "#     push!(plots, \n",
    "#     plot(x=1:250, y=vec, Geom.line, def_box, Guide.title(name), xy_lab...))\n",
    "# end\n",
    "\n",
    "# # set final plot height and vertically stack the above three plots\n",
    "# set_default_plot_size(6inch, 8inch)\n",
    "# vstack(plots...)"
   ]
  },
  {
   "cell_type": "markdown",
   "metadata": {},
   "source": [
    "Compute statistics as in Arellano (2008). Identify begining and ending of default events with pre-default history of 74 periods or more. Choose only the last 100 of them. This is following Arellano (2008) who takes the limiting distribution of assets."
   ]
  },
  {
   "cell_type": "code",
   "execution_count": 12,
   "metadata": {
    "collapsed": false
   },
   "outputs": [],
   "source": [
    "default_probability = length(start_default)/(Tsim - sum(default_status_sim))*100\n",
    "\n",
    "Tmax = 74 # time horizon for each sample, from Arellano (2008)\n",
    "\n",
    "## Save only default episodes with previous history of at least Tmax periods\n",
    "\n",
    "# Find first time that subsample is long enough and redefine vectors\n",
    "ind_first     = findfirst(start_default.>=Tmax) \n",
    "start_default = start_default[ind_first:end]\n",
    "end_default   = end_default[ind_first:end]\n",
    "\n",
    "# Find distance between defaults and save only those subsamples long enough\n",
    "diff_start_end = start_default[2:end] - end_default[1:end-1]\n",
    "filter_sample  = find(diff_start_end.>=Tmax)\n",
    "\n",
    "start_default_sample = [start_default[1];start_default[filter_sample + 1]]\n",
    "end_default_sample   = [end_default[filter_sample];end_default[filter_sample[end]+1]];\n",
    "\n",
    "# Get the last 100 default events\n",
    "start_default_sample = start_default_sample[end-99:end]\n",
    "end_default_sample   = end_default_sample[end-99:end];"
   ]
  },
  {
   "cell_type": "markdown",
   "metadata": {},
   "source": [
    "Compute statistics for pre-default periods:"
   ]
  },
  {
   "cell_type": "code",
   "execution_count": 13,
   "metadata": {
    "collapsed": true
   },
   "outputs": [],
   "source": [
    "yvals_sim = Array(Float64,Tmax,length(start_default_sample))\n",
    "\n",
    "bvals_sim,qvals_sim,cvals_sim,tbvals_sim,spread_sim = \n",
    "similar(yvals_sim),similar(yvals_sim),similar(yvals_sim),similar(yvals_sim),similar(yvals_sim)\n",
    "\n",
    "corr_y_spread = Array(Float64,length(start_default_sample),1)\n",
    "\n",
    "corr_y_tbalance,corr_y_consumption,corr_r_tbalance,corr_r_consumption = \n",
    "similar(corr_y_spread),similar(corr_y_spread),similar(corr_y_spread),similar(corr_y_spread)\n",
    "\n",
    "# Statistics 74 periods previous to default\n",
    "\n",
    "for ii=1:length(start_default_sample)\n",
    "    init  = start_default_sample[ii]-Tmax\n",
    "    final = start_default_sample[ii]-1\n",
    "        \n",
    "    yvals_sim[:,ii]  = y_sim_val[init:final]\n",
    "    bvals_sim[:,ii]  = B_sim_val[init:final]./yvals_sim[:,ii]\n",
    "    qvals_sim[:,ii]  = q_sim_val[init:final]\n",
    "    cvals_sim[:,ii]  = c_sim_val[init:final]\n",
    "    tbvals_sim[:,ii] = (yvals_sim[:,ii] - cvals_sim[:,ii])./yvals_sim[:,ii]\n",
    "    spread_sim[:,ii] = (1./q_sim_val[init:final] - ae.r - 1)\n",
    "    \n",
    "    corr_y_spread[ii]      = cov(spread_sim[:,ii],yvals_sim[:,ii])/(std(spread_sim[:,ii])*std(yvals_sim[:,ii]))\n",
    "    corr_y_tbalance[ii]    = cov(tbvals_sim[:,ii],yvals_sim[:,ii])/(std(tbvals_sim[:,ii])*std(yvals_sim[:,ii]))\n",
    "    corr_y_consumption[ii] = cov(cvals_sim[:,ii],yvals_sim[:,ii])/(std(cvals_sim[:,ii])*std(yvals_sim[:,ii]))\n",
    "    \n",
    "    corr_r_tbalance[ii]    = cov(tbvals_sim[:,ii],spread_sim[:,ii])/(std(tbvals_sim[:,ii])*std(spread_sim[:,ii]))\n",
    "    corr_r_consumption[ii] = cov(cvals_sim[:,ii],spread_sim[:,ii])/(std(cvals_sim[:,ii])*std(spread_sim[:,ii]))\n",
    "end\n",
    "\n",
    "mean_spread   = mean(spread_sim)*400\n",
    "mean_tbalance = mean(tbvals_sim)*100\n",
    "mean_debt_y   = -mean(bvals_sim)*100\n",
    "\n",
    "mean_consumption = mean(cvals_sim)\n",
    "mean_output      = mean(yvals_sim)\n",
    "\n",
    "std_spread       = mean(std(spread_sim,1))*400\n",
    "std_tbalance     = mean(std(tbvals_sim,1))*100\n",
    "std_consumption  = mean(std(cvals_sim,1))*100\n",
    "std_output       = mean(std(yvals_sim,1))*100\n",
    "\n",
    "corr_y_spread      = mean(corr_y_spread)\n",
    "corr_y_tbalance    = mean(corr_y_tbalance)\n",
    "corr_y_consumption = mean(corr_y_consumption)\n",
    "corr_r_tbalance    = mean(corr_r_tbalance)\n",
    "corr_r_consumption = mean(corr_r_consumption);"
   ]
  },
  {
   "cell_type": "markdown",
   "metadata": {},
   "source": [
    "Compute moments for Default Episodes as in Table 4 of Arellano (2008).\n",
    "Consumption, output and trade balance deviations are measured with respect to the pre-default periods' mean.\n",
    "Interest rates spread is measured at one period before declaring default."
   ]
  },
  {
   "cell_type": "code",
   "execution_count": 14,
   "metadata": {
    "collapsed": true
   },
   "outputs": [],
   "source": [
    "## Statistics in period previous to default\n",
    "\n",
    "spread_default_episode   = (1./q_sim_val[start_default_sample-1] - ae.r - 1)\n",
    "\n",
    "mean_spread_default_episode   = mean(spread_default_episode)*400\n",
    "\n",
    "\n",
    "mean_consumption_default_episode = mean(c_sim_val[start_default_sample-1])\n",
    "fall_consumption = mean((mean(cvals_sim,1)'[:,1] - c_sim_val[start_default_sample-1])./(mean(cvals_sim,1)'[:,1]))*100\n",
    "\n",
    "mean_output_default_episode = mean(y_sim_val[start_default_sample-1])\n",
    "fall_output = mean((mean(yvals_sim,1)'[:,1] - y_sim_val[start_default_sample-1])./(mean(yvals_sim,1)'[:,1]))*100\n",
    "\n",
    "tbalance_default_episode = mean((c_sim_val[start_default_sample-1] - \n",
    "y_sim_val[start_default_sample-1])/y_sim_val[start_default_sample-1])\n",
    "\n",
    "tbalance_pre_default     = (mean((yvals_sim-cvals_sim)./yvals_sim,1)'[:,1])\n",
    "tbalance_default_episode = (y_sim_val[start_default_sample-1] - c_sim_val[start_default_sample-1])./y_sim_val[start_default_sample-1]\n",
    "\n",
    "variation_tbalance_episode = mean(tbalance_default_episode - tbalance_pre_default)*100\n",
    "\n",
    "\n",
    "# Standard Deviations\n",
    "std_spread_default_episode       = mean(std(spread_default_episode,1))*400\n",
    "std_tbalance_default_episode     = mean(std(tbalance_default_episode,1))\n",
    "std_consumption_default_episode  = mean(std(c_sim_val[start_default_sample-1],1))*100\n",
    "std_output_default_episode       = mean(std(y_sim_val[start_default_sample-1],1))*100\n",
    "\n",
    "\n",
    "# Correlations with output\n",
    "corr_spread_y_default_episode = cov(spread_default_episode,y_sim_val[start_default_sample-1])/\n",
    "(std(spread_default_episode)*std(y_sim_val[start_default_sample-1]))\n",
    "\n",
    "corr_tbalance_y_default_episode = cov(tbalance_default_episode,y_sim_val[start_default_sample-1])/\n",
    "(std(tbalance_default_episode)*std(y_sim_val[start_default_sample-1]))\n",
    "\n",
    "corr_consumption_y_default_episode = cov(c_sim_val[start_default_sample-1],y_sim_val[start_default_sample-1])/\n",
    "(std(c_sim_val[start_default_sample-1])*std(y_sim_val[start_default_sample-1]))\n",
    "\n",
    "# Correlations with Spreads\n",
    "corr_tbalance_r_default_episode = cov(tbalance_default_episode,spread_default_episode)/\n",
    "(std(tbalance_default_episode)*std(spread_default_episode))\n",
    "\n",
    "corr_consumption_r_default = cov(c_sim_val[start_default_sample-1],spread_default_episode)/\n",
    "(std(c_sim_val[start_default_sample-1])*std(spread_default_episode));"
   ]
  },
  {
   "cell_type": "code",
   "execution_count": 15,
   "metadata": {
    "collapsed": true
   },
   "outputs": [],
   "source": [
    "## Variables during default\n",
    "\n",
    "yvals_sim_default = Array{Float64}[]\n",
    "\n",
    "for ii=1:length(start_default_sample)\n",
    "    init  = start_default_sample[ii]\n",
    "    final = end_default_sample[ii]\n",
    "        \n",
    "    push!(yvals_sim_default,y_sim_val[init:final])\n",
    "end\n",
    "\n",
    "\n",
    "# Compute moments\n",
    "\n",
    "mean_y_default = Float64[]\n",
    "\n",
    "for ii=1:length(start_default_sample)\n",
    "    y = yvals_sim_default[ii]\n",
    "    push!(mean_y_default,mean(y))\n",
    "\n",
    "end\n",
    "\n",
    "mean_y_default = mean(mean_y_default)\n",
    "\n",
    "deviation_output = (mean_y_default/mean_output - 1)*100;"
   ]
  },
  {
   "cell_type": "code",
   "execution_count": 16,
   "metadata": {
    "collapsed": false
   },
   "outputs": [
    {
     "name": "stdout",
     "output_type": "stream",
     "text": [
      "Numbers for Table 4 from Arellano (2008)\n",
      "For one period before default\n",
      "Default Episodes - Interest rate spread: 2.5593472193786644\n",
      "Default Episodes - Trade Balance: 0.1812652121035016\n",
      "Default Episodes - Fall Consumption (positive = fall): 2.02091131070693\n",
      "Default Episodes - Fall Output (positive = fall): 1.8413480155459965\n",
      " \n",
      "Standard Deviation - Interest rate spread: 1.192827720928135\n",
      "Standard Deviation - Trade Balance: 0.4827120904106092\n",
      "Standard Deviation - Consumption: 2.8932862758523448\n",
      "Standard Deviation - Output: 2.7195956929956373\n",
      " \n",
      "Correlation Y - Interest rate spread: -0.6019221342859483\n",
      "Correlation Y - Trade Balance: -0.2880501124662775\n",
      "Correlation Y - Consumption: 0.9869870407969521\n",
      " \n",
      "Correlation R - Trade Balance: 0.25194577038086946\n",
      "Correlation R - Consumption: -0.6077158162968938\n",
      " \n",
      " \n",
      "Other statistics - Samples excluding defaults\n",
      "Mean Debt (percent output): 3.031376002267211\n",
      "Mean Spread: 1.2302294424032543\n",
      "Output deviation in default: -4.6972609765183915\n",
      "Probability of Default: 0.33950680030088026\n"
     ]
    }
   ],
   "source": [
    "println(\"Numbers for Table 4 from Arellano (2008)\")\n",
    "println(\"For one period before default\")\n",
    "println(\"Default Episodes - Interest rate spread: $(mean_spread_default_episode)\")\n",
    "println(\"Default Episodes - Trade Balance: $(variation_tbalance_episode)\")\n",
    "println(\"Default Episodes - Fall Consumption (positive = fall): $(fall_consumption)\")\n",
    "println(\"Default Episodes - Fall Output (positive = fall): $(fall_output)\")\n",
    "println(\" \")\n",
    "println(\"Standard Deviation - Interest rate spread: $(std_spread)\")\n",
    "println(\"Standard Deviation - Trade Balance: $(std_tbalance)\")\n",
    "println(\"Standard Deviation - Consumption: $(std_consumption)\")\n",
    "println(\"Standard Deviation - Output: $(std_output)\")\n",
    "println(\" \")\n",
    "println(\"Correlation Y - Interest rate spread: $(corr_y_spread)\")\n",
    "println(\"Correlation Y - Trade Balance: $(corr_y_tbalance)\")\n",
    "println(\"Correlation Y - Consumption: $(corr_y_consumption)\")\n",
    "println(\" \")\n",
    "println(\"Correlation R - Trade Balance: $(corr_r_tbalance)\")\n",
    "println(\"Correlation R - Consumption: $(corr_r_consumption)\")\n",
    "println(\" \")\n",
    "println(\" \")\n",
    "println(\"Other statistics - Samples excluding defaults\")\n",
    "println(\"Mean Debt (percent output): $(mean_debt_y)\")\n",
    "println(\"Mean Spread: $(mean_spread)\")\n",
    "println(\"Output deviation in default: $(deviation_output)\")\n",
    "println(\"Probability of Default: $(default_probability)\")\n"
   ]
  },
  {
   "cell_type": "markdown",
   "metadata": {},
   "source": [
    "### Simulation for Panel Regression\n",
    "\n",
    "In what follows we will simulate for N countries, compute Arellano (2008) statistics, save the simulated data on output and spreads for 53 countries and then run the same panel regressions as for the empirical data, but for the country fixed effects.\n",
    "\n",
    "First simulate the common systemic component $\\Delta_{t}$. We compute for a sufficiently large time horizon but then we will extract the last T = 84 periods, as to get the limiting distribution."
   ]
  },
  {
   "cell_type": "code",
   "execution_count": 17,
   "metadata": {
    "collapsed": false
   },
   "outputs": [],
   "source": [
    "using StatsBase\n",
    "\n",
    "T = 4*21 # Arellano has data from 1980 to 2001\n",
    "\n",
    "Tpanel = 1000\n",
    "\n",
    "Δ_init = mean(ae.Δgrid)\n",
    "\n",
    "ΠΔsum = similar(ae.ΠΔ)\n",
    "cumsum!(ΠΔsum,ae.ΠΔ,2)\n",
    "Δ_panel_ind  = Array(Int64,Tpanel)\n",
    "Δ_init_ind = searchsortedfirst(ae.Δgrid,Δ_init)\n",
    "Δ_panel_ind[1] = Δ_init_ind\n",
    "    \n",
    "distrib = Uniform()   \n",
    "random_numbers = rand(distrib,Tpanel)   \n",
    "    \n",
    "for tt=2:Tpanel\n",
    "    Δ_ind = Δ_panel_ind[tt-1]\n",
    "    prob  = ΠΔsum[Δ_ind,:]'[:,1]\n",
    "    Δ_panel_ind[tt] = searchsortedfirst(prob, random_numbers[tt-1])\n",
    "end"
   ]
  },
  {
   "cell_type": "markdown",
   "metadata": {},
   "source": [
    "Run the simulations for the idiosyncratic component for the N countries. Compute simulated output indices matrix."
   ]
  },
  {
   "cell_type": "code",
   "execution_count": 18,
   "metadata": {
    "collapsed": false
   },
   "outputs": [],
   "source": [
    "NN = 5000\n",
    "\n",
    "ϵ_init = mean(ae.ϵgrid)\n",
    "\n",
    "Πϵsum = similar(ae.Πϵ)\n",
    "cumsum!(Πϵsum,ae.Πϵ,2)\n",
    "ϵ_panel_ind  = Array(Int64,Tpanel,NN)\n",
    "ϵ_init_ind = searchsortedfirst(ae.ϵgrid,ϵ_init)\n",
    "ϵ_panel_ind[1,:] = ϵ_init_ind*ones(1,NN)\n",
    "    \n",
    "distrib = Uniform()   \n",
    "random_numbers = rand(distrib,Tpanel,NN)\n",
    "\n",
    "y_panel_ind = Array(Int64,Tpanel,NN)\n",
    "\n",
    "ne = length(ae.ϵgrid)\n",
    "\n",
    "for nn=1:NN\n",
    "    \n",
    "    y_panel_ind[1,nn] = (Δ_panel_ind[1]-1)*ne + ϵ_panel_ind[1,nn]\n",
    "    \n",
    "    for tt=2:Tpanel\n",
    "        ϵ_ind = ϵ_panel_ind[tt-1,nn]\n",
    "        prob  = Πϵsum[ϵ_ind,:]'[:,1]\n",
    "        ϵ_panel_ind[tt,nn] = searchsortedfirst(prob, random_numbers[tt-1,nn])\n",
    "        \n",
    "        y_panel_ind[tt,nn] = (Δ_panel_ind[tt]-1)*ne + ϵ_panel_ind[tt,nn]\n",
    "    end\n",
    "end"
   ]
  },
  {
   "cell_type": "markdown",
   "metadata": {},
   "source": [
    "Run the simulation for the rest of the variables.\n",
    "\n",
    "Note: \n",
    "\n",
    "     To save the initial dates for default we are using push!() and saving as array of arrays. Perhaps it is quicker to save in cells instead. Try to find some way to preallocate memory and increase speed."
   ]
  },
  {
   "cell_type": "code",
   "execution_count": 19,
   "metadata": {
    "collapsed": false
   },
   "outputs": [],
   "source": [
    "B_init=mean(ae.Bgrid)\n",
    "zero_index = searchsortedfirst(ae.Bgrid, 0.)\n",
    "B_init_ind = searchsortedfirst(ae.Bgrid, B_init)\n",
    "\n",
    "y_panel_val = Array(Float64,Tpanel,NN)\n",
    "q_panel_val, c_panel_val = similar(y_panel_val), similar(y_panel_val)\n",
    "\n",
    "B_panel_val = Array(Float64,Tpanel+1,NN)\n",
    "B_panel_indices = Array(Int64, Tpanel+1,NN)\n",
    "default_status  = fill(false, Tpanel+1,NN)\n",
    "\n",
    "q_panel_def     = []\n",
    "start_panel_def = []\n",
    "default_index   = []\n",
    "\n",
    "periods = 100\n",
    "\n",
    "for nn=1:NN\n",
    "    B_panel_indices[1,nn], default_status[1,nn] = B_init_ind, false\n",
    "    y_panel_val[1,nn], B_panel_val[1,nn] = ae.ygrid[y_panel_ind[1,nn]], ae.Bgrid[B_init_ind]\n",
    "    q_def = []\n",
    "    start_def = []\n",
    "    \n",
    "    for t=1:Tpanel\n",
    "        # Get today's indexes\n",
    "        yi, Bi = y_panel_ind[t,nn], B_panel_indices[t,nn]\n",
    "        defstat = default_status[t,nn]\n",
    "\n",
    "        # If you are not in default\n",
    "        if !defstat\n",
    "            default_today = ae.vc[Bi, yi] < ae.vd[yi] ? true: false\n",
    "\n",
    "            if default_today\n",
    "                # Default values\n",
    "                default_status[t,nn] = true\n",
    "                default_status[t+1,nn] = true\n",
    "                y_panel_val[t,nn] = ae.ydefgrid[y_panel_ind[t,nn]]\n",
    "                c_panel_val[t,nn] = y_panel_val[t,nn]\n",
    "                B_panel_indices[t+1,nn] = zero_index\n",
    "                B_panel_val[t+1,nn] = 0.\n",
    "                q_panel_val[t,nn] = ae.q[zero_index, y_panel_ind[t,nn]]\n",
    "                \n",
    "                if t>=(Tpanel-periods+1)\n",
    "                    push!(q_def,q_panel_val[t-1,nn])\n",
    "                    push!(start_def,t)\n",
    "                    push!(default_index,1)\n",
    "                end\n",
    "\n",
    "            else\n",
    "                default_status[t,nn] = false\n",
    "                y_panel_val[t,nn] = ae.ygrid[y_panel_ind[t,nn]]\n",
    "                B_panel_indices[t+1,nn] = ae.policy[Bi, yi]\n",
    "                B_panel_val[t+1,nn] = ae.Bgrid[B_panel_indices[t+1,nn]]\n",
    "                q_panel_val[t,nn]   = ae.q[B_panel_indices[t+1,nn], y_panel_ind[t,nn]]\n",
    "                c_panel_val[t,nn]   = y_panel_val[t,nn] - q_panel_val[t,nn]*B_panel_val[t+1,nn]+B_panel_val[t,nn]\n",
    "                                    \n",
    "            end\n",
    "\n",
    "        # If you are in default\n",
    "        else\n",
    "            B_panel_indices[t+1,nn] = zero_index\n",
    "            B_panel_val[t+1,nn] = 0.\n",
    "            y_panel_val[t,nn] = ae.ydefgrid[y_panel_ind[t,nn]]\n",
    "            c_panel_val[t,nn] = y_panel_val[t,nn]\n",
    "            q_panel_val[t,nn] = ae.q[zero_index, y_panel_ind[t,nn]]\n",
    "\n",
    "            # With probability θ exit default status\n",
    "            if rand() < ae.θ\n",
    "                default_status[t+1,nn] = false\n",
    "            else\n",
    "                default_status[t+1,nn] = true\n",
    "            end\n",
    "        end\n",
    "    end\n",
    "    push!(q_panel_def,q_def)\n",
    "    push!(start_panel_def,start_def)\n",
    "end"
   ]
  },
  {
   "cell_type": "markdown",
   "metadata": {},
   "source": [
    "Take the last T = 84 observations for 53 countries on output and spreads:"
   ]
  },
  {
   "cell_type": "code",
   "execution_count": 20,
   "metadata": {
    "collapsed": false
   },
   "outputs": [],
   "source": [
    "output_out  = y_panel_val[end-T+1:end,1:53]\n",
    "spreads_out = (1./q_panel_val[end-T+1:end,1:53] - ae.r - 1.0)*40000;"
   ]
  }
 ],
 "metadata": {
  "kernelspec": {
   "display_name": "Julia 0.4.0",
   "language": "julia",
   "name": "julia-0.4"
  },
  "language_info": {
   "file_extension": ".jl",
   "mimetype": "application/julia",
   "name": "julia",
   "version": "0.4.0"
  }
 },
 "nbformat": 4,
 "nbformat_minor": 0
}
