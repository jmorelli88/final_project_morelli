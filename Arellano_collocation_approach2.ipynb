{
 "cells": [
  {
   "cell_type": "markdown",
   "metadata": {},
   "source": [
    "## Arellano (2008) With Collocations\n",
    "\n",
    "In the following code we will solve the Arellano (2008) with collocations method. For that we will use the translation of the `CompEcon` package to `Julia`.\n",
    "\n",
    "\n",
    "The main equations of the Arellano model are:\n",
    "\n",
    "\\begin{equation}\n",
    "\\begin{aligned}\n",
    "V_{c}(b,y) & = \\max_{b'\\geq -Z}\\left\\{u(c(b')) + \\beta\\int{}V(b',y')P(y,y')dy'\\right\\} \\\\\n",
    "V_{d} & = u(h(y)) + \\beta\\int{}\\left[\\theta V(0,y') + (1-\\theta)V_{d}(y')\\right]P(y,y')dy' \\\\\n",
    "V(b,y) & = \\max{}\\left\\{V_{c}(b,y);V_{d}(y)\\right\\}\n",
    "\\end{aligned}\n",
    "\\end{equation}\n",
    "\n",
    "\n",
    "The government is going to default when $V_{c}(b,y)<V_{d}(y)$, and the probability of having default next period is\n",
    "\\begin{equation}\n",
    "\\delta(b',y)\\equiv\\int{}\\mathbf{1}\\left\\{V_{c}(b',y')< V_{d}(y')\\right\\}P(y,y')dy'\n",
    "\\end{equation}\n",
    "\n",
    "\n",
    "Finally, the zero profit condition implies:\n",
    "\\begin{equation}\n",
    "q(b',y) = \\frac{1-\\delta(b',y)}{1+r}\n",
    "\\end{equation}\n",
    "\n",
    "\n",
    "#### Collocations Version\n",
    "\n",
    "The translation to the collocations version implies the following system of equations:\n",
    "\n",
    "\\begin{equation}\n",
    "\\begin{aligned}\n",
    "\\Phi(b,y;\\omega_{c}) & = \\max_{b'\\geq -Z}\\left\\{u(c(b')) + \\beta\\Phi(b',y;\\omega_{e})\\right\\} \\\\\n",
    "\\Phi(y;\\omega_{d}) & = u(h(y)) + \\beta\\sum_{y'\\in Y}\\Pi[y,y']\\left[\\theta\\Phi(0,y';\\omega_{c}) + (1-\\theta)\\Phi(y';\\omega_{d})\\right] \\\\\n",
    "\\Phi(b,y;\\omega_{e}) & = (\\Pi\\otimes\\mathbf{I_{N_{b}}})\\max\\left\\{\\Phi(b,y';\\omega_{c});\\Phi(y';\\omega_{d})\\right\\}\\\\\n",
    "V(b,y) & = \\max\\left\\{\\Phi(b,y;\\omega_{c});\\Phi(y;\\omega_{d})\\right\\}\n",
    "\\end{aligned}\n",
    "\\end{equation}\n",
    "\n",
    "\n",
    "Note that $\\Phi(b,y;\\omega)$ is an abbreviation for $\\sum_{j\\in N_{y}N_{b}}\\phi(b,y)_{j}\\omega_{j}$, where $\\phi(b,y)$ is a row vector.\n",
    "\n",
    "\n",
    "The advantage of separating the value function from its expected value is that it greatly increases the computation speed, since we do not have to compute the expecation for each optimization iteration. We can solve $V$ and $V_{e}$ separately and then solve the system.\n",
    "\n",
    "\n",
    "We are going to choose $N_{y}=10$ collocation nodes for the income process and $N_{b}=10$ collocation nodes for the level of debt. Then the set of collocation nodes is $\\mathbf{s}=[\\mathbf{1}_{N_{y}}\\otimes{}\\mathbf{b},\\mathbf{y}\\otimes\\mathbf{1}_{N_{b}}]$, so that $\\mathbf{s}$ is of dimension $N\\times{}2$ with $N=N_{y}\\times{}N_{b}$.\n",
    "\n",
    "We chose linear splines for both, income and bonds.\n",
    "\n",
    "\n",
    "For better understanding, we write down the problem in matrix form. All the variables are now vectors. Let $\\Phi_{x}$ be the basis structure for variable $x$.\n",
    "\n",
    "\\begin{equation}\n",
    "\\begin{aligned}\n",
    "\\Phi(s)\\omega_{c} & = \\max_{b'\\in Z}\\left\\{u(c(b')) + \\beta\\Phi([b',y])\\omega_{e}\\right\\} \\\\\n",
    "\\Phi_{d}(y)\\omega_{d} & = u(h(y)) + \\beta\\Pi\\left[\\theta\\Phi([0,y'])\\omega_{c} + (1-\\theta)\\Phi_{d}(y')\\omega_{d}\\right] \\\\\n",
    "\\Phi(s)\\omega_{e} & = (\\Pi\\otimes\\mathbf{I_{N_{b}}})\\max\\left\\{\\Phi([b,y'])\\omega_{c};\\mathbf{1_{N_{b}}}\\otimes\\Phi_{d}(y)\\omega_{d}\\right\\}\\\\\n",
    "\\end{aligned}\n",
    "\\end{equation}\n",
    "\n",
    "\n",
    "For the second equation, note that $[0,y]$ is just the block of the state vector in which $s=(b=0,y)$, which is of size $N_{y}\\times1$. Then, $\\Phi([0,y])$ is of size $N_{y}\\times N$ and $\\Phi([0,y])\\omega_{c}$ is of size $N_{y}\\times1$. Then $\\Pi\\left[\\dot{}\\right]$ is of size $N_{y}\\times1$.\n",
    "\n",
    "\n",
    "The way to solve by iteration is:\n",
    "1. Guess some initial weights $\\omega_{c},\\omega_{e},\\omega_{d}$.\n",
    "2. Compute the RHS of the three equations.\n",
    "3. Since the $\\Phi_{x}$ matrices are invertible, we can get new vectors of coefficients by pre-multiplying the RHS by the $\\Phi_{x}$ matrices.\n",
    "4. Use output as new guess and iterate until convergence in coefficients.\n",
    "\n",
    "In what follows we define the ArellanoEconomy type, which now includes collocation parameters."
   ]
  },
  {
   "cell_type": "code",
   "execution_count": 2,
   "metadata": {
    "collapsed": false
   },
   "outputs": [],
   "source": [
    "using QuantEcon, CompEcon, Interpolations\n",
    "\n",
    "type ArellanoEconomy\n",
    "    # Model Parameters\n",
    "    β::Float64\n",
    "    γ::Float64\n",
    "    r::Float64\n",
    "    ρ::Float64\n",
    "    η::Float64\n",
    "    θ::Float64\n",
    "\n",
    "    # Grid Parameters\n",
    "    ny::Int64\n",
    "    nB::Int64\n",
    "    b_low::Float64 # lower bound for Bgrid\n",
    "    b_up::Float64  # upper bounds for Bgrid\n",
    "    ygrid::Array{Float64, 1}\n",
    "    ydef::Array{Float64, 1}\n",
    "    Bgrid::Array{Float64, 1}\n",
    "    Π::Array{Float64, 2}\n",
    "\n",
    "    # Collocation Specification\n",
    "    basis::Basis\n",
    "    bs::BasisStructure\n",
    "    Φ::SparseMatrixCSC{Float64,Int}\n",
    "    Φd::SparseMatrixCSC{Float64,Int}\n",
    "    snodes::Matrix{Float64}\n",
    "    ωe::Array{Float64}\n",
    "    ωc::Array{Float64}\n",
    "    ωd::Array{Float64}\n",
    "    n_b::Int64\n",
    "    n_y::Int64\n",
    "    \n",
    "    # Value and Policy Functions\n",
    "    vf::Array{Float64, 2}\n",
    "    vd::Array{Float64, 2}\n",
    "    vc::Array{Float64, 2}\n",
    "    policy::Array{Float64, 2}\n",
    "    q::Array{Float64, 2}\n",
    "    defprob::Array{Float64, 2}\n",
    "    \n",
    "    # Setting Parameters for Optimization\n",
    "    tol::Float64\n",
    "    maxit::Int\n",
    "end"
   ]
  },
  {
   "cell_type": "markdown",
   "metadata": {},
   "source": [
    "Generate the ArellanoEconomy function that will give key values to the ArellanoEconomy type.\n",
    "Later one we can change particular values of the parameters by typing ArellanoEconomy(param=value)."
   ]
  },
  {
   "cell_type": "code",
   "execution_count": 17,
   "metadata": {
    "collapsed": false
   },
   "outputs": [
    {
     "data": {
      "text/plain": [
       "ArellanoEconomy"
      ]
     },
     "execution_count": 17,
     "metadata": {},
     "output_type": "execute_result"
    }
   ],
   "source": [
    "function ArellanoEconomy(;β=.953,\n",
    "                          γ=2.,\n",
    "                          r=0.017,\n",
    "                          ρ=0.945,\n",
    "                          η=0.025,\n",
    "                          θ=0.282,\n",
    "                          ny=15,\n",
    "                          nB=15,\n",
    "                          b_low=-.4,\n",
    "                          b_up=.4,\n",
    "                          tol=1e-9,\n",
    "                          maxit=2000)\n",
    "\n",
    "    # Create Grids and Discretize the Stochastic Process\n",
    "    Bgrid = collect(linspace(b_low, b_up, nB))\n",
    "    res_mark = tauchen(ny, ρ, η)\n",
    "    Π = res_mark.p\n",
    "    ly = res_mark.state_values\n",
    "    ygrid = exp(ly)\n",
    "    \n",
    "    # Build Interpolation Basis\n",
    "    B_params = SplineParams(nB,b_low,b_up,3)\n",
    "#     B_params = ChebParams(nB,b_low,b_up)\n",
    "    y_params = LinParams(ygrid, 0)\n",
    "    basis = Basis(B_params,y_params)\n",
    "    snodes, (B_nodes,y_nodes) = nodes(basis)\n",
    "    n_b = length(nodes(basis.params[1]))\n",
    "    n_y = length(nodes(basis.params[2]))\n",
    "    bs = BasisStructure(basis, Direct(), snodes, [0,0])\n",
    "    Φ = convert(Expanded, bs).vals[1]\n",
    "    Φd = BasisStructure(basis[2], Expanded(), nodes(basis.params[2]), [0]).vals[1]\n",
    "    ωe = ones(size(snodes,1),1)*0.1\n",
    "    ωc = ones(size(snodes,1),1)*0.1\n",
    "    ωd = ones(n_y)*0.1\n",
    "    \n",
    "    ydef = h(nodes(basis.params[2])) \n",
    "\n",
    "    # Define value functions (Notice ordered different than Python to take\n",
    "    # advantage of column major layout of Julia)\n",
    "    vf = zeros(n_b, n_y)\n",
    "    vd = zeros(1, n_y)\n",
    "    vc = zeros(n_b, n_y)\n",
    "    policy = Array(Int, n_b, n_y)\n",
    "    q = ones(n_y, n_b) .* (1 / (1 + r))\n",
    "    defprob = Array(Float64, n_y, n_b)\n",
    "\n",
    "    return ArellanoEconomy(β, γ, r, ρ, η, θ, ny, nB, b_low, b_up, ygrid, ydef, Bgrid, Π, basis, bs, Φ, Φd,\n",
    "            snodes, ωe, ωc, ωd, n_b, n_y, vf, vd, vc, policy, q, defprob, tol, maxit)\n",
    "end"
   ]
  },
  {
   "cell_type": "code",
   "execution_count": 18,
   "metadata": {
    "collapsed": false
   },
   "outputs": [
    {
     "data": {
      "text/plain": [
       "g (generic function with 2 methods)"
      ]
     },
     "execution_count": 18,
     "metadata": {},
     "output_type": "execute_result"
    }
   ],
   "source": [
    "function interp_q(ae::ArellanoEconomy,bp)\n",
    "    # q is a 2D function. Will interpolate it. Need to take the transpose of q since when we do the reshape\n",
    "    # for the policy, the matrix will be of ys in the rows and bs in the columns (in the bp vector we have blocks\n",
    "    # marked by the bs)\n",
    "    \n",
    "    bp = reshape(bp,ae.n_y,ae.n_b)\n",
    "    knots = (nodes(ae.basis.params[2]),nodes(ae.basis.params[1]))\n",
    "    itp   = interpolate(knots, ae.q, (Gridded(Constant()), Gridded(Linear())))\n",
    "    itp2 = extrapolate(itp, Flat())\n",
    "    \n",
    "    q_interp = Array(Float64,ae.n_y,ae.n_b)\n",
    "    \n",
    "    for (i_y,y_v) in enumerate(nodes(ae.basis.params[2]))\n",
    "        for i_b=1:ae.n_b\n",
    "            b_val = bp[i_y,i_b]\n",
    "            q_interp[i_y,i_b] = itp[y_v,b_val]\n",
    "        end\n",
    "    end\n",
    "    \n",
    "    q_interp = vec(q_interp)\n",
    "    return q_interp\n",
    "end\n",
    "\n",
    "\n",
    "h(grid::Vector{Float64}) = min(.969 * mean(grid), grid)\n",
    "\n",
    "u(ae::ArellanoEconomy, sn, bp) = vec(g(ae,bp,sn).^(1 - ae.γ) / (1 - ae.γ))\n",
    "g(ae::ArellanoEconomy, bp, sn=ae.snodes) = sn[:,2]+sn[:,1]-interp_q(ae,bp).*bp # Budget Constraint"
   ]
  },
  {
   "cell_type": "code",
   "execution_count": 19,
   "metadata": {
    "collapsed": false
   },
   "outputs": [
    {
     "data": {
      "text/plain": [
       "obj_fun (generic function with 1 method)"
      ]
     },
     "execution_count": 19,
     "metadata": {},
     "output_type": "execute_result"
    }
   ],
   "source": [
    "# Write Down the Otimization Problem\n",
    "function obj_fun(ae::ArellanoEconomy)\n",
    "    \n",
    "    function obj(bp)\n",
    "        Φ_bp = BasisStructure(ae.basis[1], Expanded(), bp, [0]).vals[1]\n",
    "        Φ = row_kron(ae.bs.vals[2],Φ_bp)\n",
    "        rhs = vec(u(ae, ae.snodes, bp) + ae.β*Φ*ae.ωe)\n",
    "        return rhs\n",
    "    end\n",
    "    \n",
    "    \n",
    "    lb_b = ae.b_low*ones(ae.n_b*ae.n_y)\n",
    "    ub_b = ae.snodes[:,2]-0.01\n",
    "    x_sol,f_sol = golden_method(obj,lb_b,ub_b)\n",
    "    \n",
    "end"
   ]
  },
  {
   "cell_type": "code",
   "execution_count": 20,
   "metadata": {
    "collapsed": false
   },
   "outputs": [
    {
     "data": {
      "text/plain": [
       "iter! (generic function with 1 method)"
      ]
     },
     "execution_count": 20,
     "metadata": {},
     "output_type": "execute_result"
    }
   ],
   "source": [
    "# Write Down the One-Step Function\n",
    "\n",
    "function one_step_update!(ae::ArellanoEconomy)\n",
    "    # Approach 2:\n",
    "    # Given (ωc,ωd), get ωe'. With ωc and ωd get ωd'. With ωe' get ωc'.\n",
    "    rhs_e = vec(kron(ae.Π,eye(ae.n_b))*max(ae.Φ*ae.ωc,repmat(ae.Φd*ae.ωd,ae.n_b)))\n",
    "    ae.ωe = ae.Φ\\rhs_e\n",
    "    \n",
    "    ind = searchsortedfirst(ae.snodes[:,1], 0.0)\n",
    "    Vc = ae.Φ[ind:ind+ae.n_y-1,:]*ae.ωc \n",
    "    rhs_d = vec(ae.ydef.^(1 - ae.γ) / (1 - ae.γ)+ae.β*ae.Π*(ae.θ*Vc + (1-ae.θ)*ae.Φd*ae.ωd))\n",
    "    ae.ωd = ae.Φd\\rhs_d\n",
    "    \n",
    "    xsol,rhs_c = obj_fun(ae)\n",
    "    ae.ωc = ae.Φ\\rhs_c\n",
    "    \n",
    "    \n",
    "    \n",
    "    Void\n",
    "end\n",
    "\n",
    "\n",
    "function compute_prices!(ae::ArellanoEconomy)\n",
    "    \n",
    "    # Create default values with a matching size\n",
    "    default_states = repmat(ae.Φd*ae.ωd,ae.n_b) .> ae.Φ*ae.ωc\n",
    "    \n",
    "    # Update default probabilities and prices\n",
    "    int = reshape(default_states,ae.n_y,ae.n_b)\n",
    "    copy!(ae.defprob, ae.Π*int)\n",
    "    copy!(ae.q, (1 - ae.defprob) / (1 + ae.r))\n",
    "\n",
    "    Void\n",
    "end\n",
    "\n",
    "\n",
    "function iter!(ae::ArellanoEconomy)\n",
    "    iteration = 0\n",
    "    dif = 1\n",
    "    \n",
    "#     P_Φ = kron(ae.Π, eye(ae.n_b))*ae.Φ\n",
    "    \n",
    "    while dif>ae.tol\n",
    "        iteration +=1\n",
    "        if iteration > ae.maxit\n",
    "            @printf(\"resid_c is %.3f\\n\",resid_c)\n",
    "            @printf(\"resid_d is %.3f\\n\",resid_d)\n",
    "            @printf(\"resid_e is %.3f\\n\",resid_e)\n",
    "            break\n",
    "        else\n",
    "            ωc0 = copy(ae.ωc)\n",
    "            ωd0 = copy(ae.ωd)\n",
    "            ωe0 = copy(ae.ωe)\n",
    "            \n",
    "            one_step_update!(ae)\n",
    "            \n",
    "            # Update Prices\n",
    "            compute_prices!(ae)\n",
    "            \n",
    "            resid_c = norm(ae.ωc - ωc0)\n",
    "            resid_d = norm(ae.ωd - ωd0)\n",
    "            resid_e = norm(ae.ωe - ωe0)\n",
    "            \n",
    "            dif = max(resid_c,resid_d,resid_e)\n",
    "#             @printf(\"Iteration %d with distance %.3f\\n\", iteration, dif)\n",
    "        end\n",
    "    end\n",
    "    \n",
    "    @printf(\"The total number of iterations was %d.\\n\", iteration)\n",
    "    @printf(\"The distance is %.5f.\\n\", dif)\n",
    "end\n",
    "    \n"
   ]
  },
  {
   "cell_type": "code",
   "execution_count": 21,
   "metadata": {
    "collapsed": false,
    "scrolled": true
   },
   "outputs": [
    {
     "name": "stdout",
     "output_type": "stream",
     "text": [
      "The total number of iterations was 116.\n",
      "The distance is NaN.\n",
      "  4.220799 seconds (13.93 M allocations: 4.830 GB, 22.21% gc time)\n"
     ]
    }
   ],
   "source": [
    "ae = ArellanoEconomy()\n",
    "@time iter!(ae)"
   ]
  },
  {
   "cell_type": "markdown",
   "metadata": {},
   "source": [
    "Next I am going to:\n",
    "1. Take a finer grid for debt\n",
    "2. Using the $\\Phi$s and the solutions for the $\\omega$s, I am going to compute the value functions for the finer grid.\n",
    "3. Compute teh default states and default probability $\\delta(\\dot{})$.\n",
    "4. Compute the pricing kernel $q(\\dot{})$"
   ]
  },
  {
   "cell_type": "code",
   "execution_count": 15,
   "metadata": {
    "collapsed": false
   },
   "outputs": [],
   "source": [
    "function finer_grid(ae::ArellanoEconomy,NN) \n",
    "\n",
    "    B_params_finer = SplineParams(NN,ae.b_low,ae.b_up,1)\n",
    "    y_params = LinParams(ae.ygrid, 0)\n",
    "    basis_finer    = Basis(B_params_finer,y_params)\n",
    "    snodes_finer, (B_nodes_finer,y_nodes_finer) = nodes(basis_finer)\n",
    "\n",
    "    n_b_finer = length(nodes(basis_finer.params[1]))\n",
    "    n_y_finer = length(nodes(basis_finer.params[2]))\n",
    "    bs_finer  = BasisStructure(basis_finer, Direct(), snodes_finer, [0 0])\n",
    "    \n",
    "    Φ_int   = BasisStructure(ae.basis[1], Expanded(), snodes_finer[:,1], [0]).vals[1]\n",
    "    Φ_finer = row_kron(bs_finer.vals[2],Φ_int)\n",
    "\n",
    "    VC = Φ_finer*ae.ωc\n",
    "    VE = Φ_finer*ae.ωe\n",
    "    VD = repmat(ae.Φd*ae.ωd,NN)\n",
    "    VF = reshape(max(VD,VC),ae.n_y,NN)\n",
    "    \n",
    "    # Create default values with a matching size\n",
    "    default_states_finer = VD .> VC\n",
    "\n",
    "    # Update default probabilities and prices\n",
    "    int = reshape(default_states_finer,ae.n_y,NN)\n",
    "    defprob_finer = ae.Π*int\n",
    "    q_finer = (1 - defprob_finer) / (1 + ae.r)\n",
    "\n",
    "    return VC,VE,VD,VF,default_states_finer,defprob_finer,q_finer,B_nodes_finer\n",
    "end\n",
    "\n",
    "NN = 2000\n",
    "\n",
    "VC,VE,VD,VF,default_states_finer,defprob_finer,q_finer,B_nodes_finer = finer_grid(ae,NN)\n",
    "\n",
    "q_finer_transpose = q_finer';\n"
   ]
  },
  {
   "cell_type": "code",
   "execution_count": 16,
   "metadata": {
    "collapsed": false
   },
   "outputs": [
    {
     "data": {
      "image/png": "[encoded data removed]",
      "text/plain": [
       "PyPlot.Figure(PyObject <matplotlib.figure.Figure object at 0x31f089fd0>)"
      ]
     },
     "metadata": {},
     "output_type": "display_data"
    },
    {
     "data": {
      "text/plain": [
       "2-element Array{Any,1}:\n",
       " PyObject <matplotlib.lines.Line2D object at 0x317f888d0>\n",
       " PyObject <matplotlib.lines.Line2D object at 0x31f07ef90>"
      ]
     },
     "execution_count": 16,
     "metadata": {},
     "output_type": "execute_result"
    }
   ],
   "source": [
    "# using Gadfly, Compose, ColorTypes, DataFrames\n",
    "\n",
    "# Create \"Y High\" and \"Y Low\" values as 5% devs from mean\n",
    "\n",
    "grid_y = nodes(ae.basis.params[2])\n",
    "grid_b = nodes(ae.basis.params[1])\n",
    "\n",
    "high, low = mean(grid_y)*1.05, mean(grid_y)*.92\n",
    "iy_high, iy_low = map(x->searchsortedfirst(grid_y, x), (high, low))\n",
    "\n",
    "# Extract a suitable plot grid\n",
    "x = Float64[]\n",
    "q_low = Float64[]\n",
    "q_high = Float64[]\n",
    "for i=1:NN\n",
    "    b = B_nodes_finer[i]\n",
    "    if -0.35 <= b <= 0  # To match fig 3 of Arellano\n",
    "        push!(x, b)\n",
    "        push!(q_low, q_finer_transpose[i,7])\n",
    "        push!(q_high, q_finer_transpose[i,9])\n",
    "    end\n",
    "end\n",
    "\n",
    "# generate plot\n",
    "plot(x,[q_low q_high])"
   ]
  }
 ],
 "metadata": {
  "kernelspec": {
   "display_name": "Julia 0.4.0",
   "language": "julia",
   "name": "julia-0.4"
  },
  "language_info": {
   "file_extension": ".jl",
   "mimetype": "application/julia",
   "name": "julia",
   "version": "0.4.0"
  }
 },
 "nbformat": 4,
 "nbformat_minor": 0
}
